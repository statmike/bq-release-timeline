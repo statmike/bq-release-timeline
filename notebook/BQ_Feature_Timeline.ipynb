{
  "nbformat": 4,
  "nbformat_minor": 0,
  "metadata": {
    "colab": {
      "name": "BQ Feature Timeline",
      "provenance": [],
      "collapsed_sections": [],
      "toc_visible": true,
      "mount_file_id": "121JRFMBe7rpPT9AxpdEOso_w2n5LgAo3",
      "authorship_tag": "ABX9TyN0YJTwNzaK0X2RsjyN1zE0",
      "include_colab_link": true
    },
    "kernelspec": {
      "name": "python3",
      "display_name": "Python 3"
    }
  },
  "cells": [
    {
      "cell_type": "markdown",
      "metadata": {
        "id": "view-in-github",
        "colab_type": "text"
      },
      "source": [
        "<a href=\"https://colab.research.google.com/github/statmike/bq-release-timeline/blob/main/notebook/BQ_Feature_Timeline.ipynb\" target=\"_parent\"><img src=\"https://colab.research.google.com/assets/colab-badge.svg\" alt=\"Open In Colab\"/></a>"
      ]
    },
    {
      "cell_type": "markdown",
      "metadata": {
        "id": "rNBl_0TkT9a6"
      },
      "source": [
        "# Covert the release notes for Big Query into an interactive timeline"
      ]
    },
    {
      "cell_type": "markdown",
      "metadata": {
        "id": "6MhjCaYh7qKU"
      },
      "source": [
        "TODO:\n",
        "- [ ] Better Hover Tips - clickable links?\n"
      ]
    },
    {
      "cell_type": "markdown",
      "metadata": {
        "id": "4w6SHdSagKXv"
      },
      "source": [
        "## Crawl Release Pages For Data"
      ]
    },
    {
      "cell_type": "code",
      "metadata": {
        "id": "fzv57RPITPL9"
      },
      "source": [
        "from urllib.request import urlopen\n",
        "from bs4 import BeautifulSoup\n",
        "import pandas as pd\n",
        "import datetime as datetime"
      ],
      "execution_count": null,
      "outputs": []
    },
    {
      "cell_type": "code",
      "metadata": {
        "id": "uV00Eo5tETVl"
      },
      "source": [
        "def crawler(product,url):\n",
        "  header = [\"date\",\"release_type\",\"description\"]\n",
        "  releases = []\n",
        "  html = urlopen(url)\n",
        "  pot = BeautifulSoup(html,'lxml')\n",
        "  bowl = pot.find('section',attrs={\"class\":\"releases\"})\n",
        "  spoons = bowl.findAll(['h2','div','p','ul'])\n",
        "  for spoon in spoons:\n",
        "    if spoon.name == 'h2':\n",
        "      keep_date = spoon.text #get('data-text')\n",
        "    if spoon.name == 'div':\n",
        "      keep_type = spoon.get('class')[0]\n",
        "      keep_disc = spoon.findNext('p').text\n",
        "      releases.append([keep_date,keep_type,keep_disc])\n",
        "  df = pd.DataFrame(releases,columns=header)\n",
        "  df.date = df.date.apply(lambda x: datetime.datetime.strptime(x,\"%B %d, %Y\")) \n",
        "  df['product'] = product\n",
        "  releasemap = {\"release-fixed\":\"Fix\",\"release-issue\":\"Issue\",\"release-changed\":\"Change\",\"release-feature\":\"Feature\"}\n",
        "  df['release_type'].replace(releasemap, inplace=True)\n",
        "  return df"
      ],
      "execution_count": null,
      "outputs": []
    },
    {
      "cell_type": "code",
      "metadata": {
        "id": "UVJ9n87CEtT2"
      },
      "source": [
        "pdict = {\"bq\":\"BigQuery\",\"bqml\":\"BigQuery ML\",\"bqbi\":\"BigQuery BI Engine\",\"bqdt\":\"BigQuery Data Transfer Service\"}\n",
        "bq = crawler('bq','https://cloud.google.com/bigquery/docs/release-notes')\n",
        "bqml = crawler('bqml','https://cloud.google.com/bigquery-ml/docs/release-notes')\n",
        "bqbi = crawler('bqbi','https://cloud.google.com/bi-engine/docs/release-notes')\n",
        "bqdt = crawler('bqdt','https://cloud.google.com/bigquery-transfer/docs/release-notes')"
      ],
      "execution_count": null,
      "outputs": []
    },
    {
      "cell_type": "code",
      "metadata": {
        "id": "3mefO2oDH2hW"
      },
      "source": [
        "df = pd.concat([bq,bqml,bqbi,bqdt], axis=0, ignore_index=True)\n",
        "df = df.sort_values(by=['date'], ascending=False)"
      ],
      "execution_count": null,
      "outputs": []
    },
    {
      "cell_type": "markdown",
      "metadata": {
        "id": "vcOeWLEjgQPd"
      },
      "source": [
        "## Use Bokeh To Plot Timeline of Release Data"
      ]
    },
    {
      "cell_type": "code",
      "metadata": {
        "id": "iXiMub0CCCLP"
      },
      "source": [
        "from bokeh.plotting import figure, show, output_file, save\n",
        "from bokeh.io import show, output_notebook\n",
        "from bokeh.layouts import column\n",
        "from bokeh.models import CDSView, GroupFilter, ColumnDataSource, RangeTool, HoverTool\n",
        "\n",
        "\n",
        "# Call once to configure Bokeh to display plots inline in the notebook.\n",
        "output_notebook()"
      ],
      "execution_count": null,
      "outputs": []
    },
    {
      "cell_type": "code",
      "metadata": {
        "colab": {
          "base_uri": "https://localhost:8080/",
          "height": 447
        },
        "id": "QmFEb8JvKPte",
        "outputId": "f90d6129-8b8c-47d8-ded9-a5ca1ac2155b"
      },
      "source": [
        "colormap = {\"bq\":\"#4285F4\", \"bqml\":\"#EA4335\", \"bqbi\":\"#FBBC04\", \"bqdt\":\"#34A853\"}\n",
        "source = ColumnDataSource(data=dict(date=df['date'], release=df['release_type'], tip=df['description'],\n",
        "                                    product=df['product'], productname=[pdict[x] for x in df['product']],\n",
        "                                    colors=[colormap[x] for x in df['product']]))\n",
        "ycats = df.release_type.unique()\n",
        "\n",
        "tooltips = [(\"\",\"@product\"),(\"\",\"@tip\")]\n",
        "\n",
        "# main plot\n",
        "p = figure(title=\"Big Query Release Notes\",\n",
        "           plot_height=300, plot_width=800, tools=\"xpan\", toolbar_location=None,\n",
        "           x_axis_type=\"datetime\", x_axis_location=\"above\", tooltips=[(\"\",\"@productname\"),(\"\",\"@tip\")],\n",
        "           background_fill_color=\"#F8F9FA\", y_range=ycats, x_range=(df.date[100], df.date[0]))\n",
        "p.yaxis.axis_label = 'Release Type'\n",
        "\n",
        "#loop over products and display glyphs (circles), use CDSView to create view of product subset from source\n",
        "for prod in df['product'].unique():\n",
        "  view = CDSView(source=source, filters=[GroupFilter(column_name='product', group=prod)])\n",
        "  p.circle('date','release',source=source, view=view, line_color=None, size=10, fill_color='colors', legend_label=pdict[prod])\n",
        "\n",
        "p.legend.location='top_left'\n",
        "p.legend.click_policy=\"hide\"\n",
        "\n",
        "# selection tool\n",
        "select = figure(title=\"Drag the middle and edges of the selection box to change the range above\",\n",
        "                plot_height=130, plot_width=800, y_range=p.y_range,\n",
        "                x_axis_type=\"datetime\", y_axis_type=None,\n",
        "                tools=\"\", toolbar_location=None, background_fill_color=\"#F8F9FA\")\n",
        "range_tool = RangeTool(x_range=p.x_range)\n",
        "range_tool.overlay.fill_color = \"#5F6368\"\n",
        "range_tool.overlay.fill_alpha = 0.2\n",
        "select.circle('date', 'release', source=source, line_color=None, fill_color='colors')\n",
        "select.ygrid.grid_line_color = None\n",
        "select.add_tools(range_tool)\n",
        "select.toolbar.active_multi = range_tool\n",
        "\n",
        "full = column(p,select)\n",
        "\n",
        "show(full)"
      ],
      "execution_count": null,
      "outputs": [
        {
          "output_type": "display_data",
          "data": {
            "application/javascript": [
              "\n",
              "(function(root) {\n",
              "  function now() {\n",
              "    return new Date();\n",
              "  }\n",
              "\n",
              "  var force = true;\n",
              "\n",
              "  if (typeof root._bokeh_onload_callbacks === \"undefined\" || force === true) {\n",
              "    root._bokeh_onload_callbacks = [];\n",
              "    root._bokeh_is_loading = undefined;\n",
              "  }\n",
              "\n",
              "  var JS_MIME_TYPE = 'application/javascript';\n",
              "  var HTML_MIME_TYPE = 'text/html';\n",
              "  var EXEC_MIME_TYPE = 'application/vnd.bokehjs_exec.v0+json';\n",
              "  var CLASS_NAME = 'output_bokeh rendered_html';\n",
              "\n",
              "  /**\n",
              "   * Render data to the DOM node\n",
              "   */\n",
              "  function render(props, node) {\n",
              "    var script = document.createElement(\"script\");\n",
              "    node.appendChild(script);\n",
              "  }\n",
              "\n",
              "  /**\n",
              "   * Handle when an output is cleared or removed\n",
              "   */\n",
              "  function handleClearOutput(event, handle) {\n",
              "    var cell = handle.cell;\n",
              "\n",
              "    var id = cell.output_area._bokeh_element_id;\n",
              "    var server_id = cell.output_area._bokeh_server_id;\n",
              "    // Clean up Bokeh references\n",
              "    if (id != null && id in Bokeh.index) {\n",
              "      Bokeh.index[id].model.document.clear();\n",
              "      delete Bokeh.index[id];\n",
              "    }\n",
              "\n",
              "    if (server_id !== undefined) {\n",
              "      // Clean up Bokeh references\n",
              "      var cmd = \"from bokeh.io.state import curstate; print(curstate().uuid_to_server['\" + server_id + \"'].get_sessions()[0].document.roots[0]._id)\";\n",
              "      cell.notebook.kernel.execute(cmd, {\n",
              "        iopub: {\n",
              "          output: function(msg) {\n",
              "            var id = msg.content.text.trim();\n",
              "            if (id in Bokeh.index) {\n",
              "              Bokeh.index[id].model.document.clear();\n",
              "              delete Bokeh.index[id];\n",
              "            }\n",
              "          }\n",
              "        }\n",
              "      });\n",
              "      // Destroy server and session\n",
              "      var cmd = \"import bokeh.io.notebook as ion; ion.destroy_server('\" + server_id + \"')\";\n",
              "      cell.notebook.kernel.execute(cmd);\n",
              "    }\n",
              "  }\n",
              "\n",
              "  /**\n",
              "   * Handle when a new output is added\n",
              "   */\n",
              "  function handleAddOutput(event, handle) {\n",
              "    var output_area = handle.output_area;\n",
              "    var output = handle.output;\n",
              "\n",
              "    // limit handleAddOutput to display_data with EXEC_MIME_TYPE content only\n",
              "    if ((output.output_type != \"display_data\") || (!Object.prototype.hasOwnProperty.call(output.data, EXEC_MIME_TYPE))) {\n",
              "      return\n",
              "    }\n",
              "\n",
              "    var toinsert = output_area.element.find(\".\" + CLASS_NAME.split(' ')[0]);\n",
              "\n",
              "    if (output.metadata[EXEC_MIME_TYPE][\"id\"] !== undefined) {\n",
              "      toinsert[toinsert.length - 1].firstChild.textContent = output.data[JS_MIME_TYPE];\n",
              "      // store reference to embed id on output_area\n",
              "      output_area._bokeh_element_id = output.metadata[EXEC_MIME_TYPE][\"id\"];\n",
              "    }\n",
              "    if (output.metadata[EXEC_MIME_TYPE][\"server_id\"] !== undefined) {\n",
              "      var bk_div = document.createElement(\"div\");\n",
              "      bk_div.innerHTML = output.data[HTML_MIME_TYPE];\n",
              "      var script_attrs = bk_div.children[0].attributes;\n",
              "      for (var i = 0; i < script_attrs.length; i++) {\n",
              "        toinsert[toinsert.length - 1].firstChild.setAttribute(script_attrs[i].name, script_attrs[i].value);\n",
              "        toinsert[toinsert.length - 1].firstChild.textContent = bk_div.children[0].textContent\n",
              "      }\n",
              "      // store reference to server id on output_area\n",
              "      output_area._bokeh_server_id = output.metadata[EXEC_MIME_TYPE][\"server_id\"];\n",
              "    }\n",
              "  }\n",
              "\n",
              "  function register_renderer(events, OutputArea) {\n",
              "\n",
              "    function append_mime(data, metadata, element) {\n",
              "      // create a DOM node to render to\n",
              "      var toinsert = this.create_output_subarea(\n",
              "        metadata,\n",
              "        CLASS_NAME,\n",
              "        EXEC_MIME_TYPE\n",
              "      );\n",
              "      this.keyboard_manager.register_events(toinsert);\n",
              "      // Render to node\n",
              "      var props = {data: data, metadata: metadata[EXEC_MIME_TYPE]};\n",
              "      render(props, toinsert[toinsert.length - 1]);\n",
              "      element.append(toinsert);\n",
              "      return toinsert\n",
              "    }\n",
              "\n",
              "    /* Handle when an output is cleared or removed */\n",
              "    events.on('clear_output.CodeCell', handleClearOutput);\n",
              "    events.on('delete.Cell', handleClearOutput);\n",
              "\n",
              "    /* Handle when a new output is added */\n",
              "    events.on('output_added.OutputArea', handleAddOutput);\n",
              "\n",
              "    /**\n",
              "     * Register the mime type and append_mime function with output_area\n",
              "     */\n",
              "    OutputArea.prototype.register_mime_type(EXEC_MIME_TYPE, append_mime, {\n",
              "      /* Is output safe? */\n",
              "      safe: true,\n",
              "      /* Index of renderer in `output_area.display_order` */\n",
              "      index: 0\n",
              "    });\n",
              "  }\n",
              "\n",
              "  // register the mime type if in Jupyter Notebook environment and previously unregistered\n",
              "  if (root.Jupyter !== undefined) {\n",
              "    var events = require('base/js/events');\n",
              "    var OutputArea = require('notebook/js/outputarea').OutputArea;\n",
              "\n",
              "    if (OutputArea.prototype.mime_types().indexOf(EXEC_MIME_TYPE) == -1) {\n",
              "      register_renderer(events, OutputArea);\n",
              "    }\n",
              "  }\n",
              "\n",
              "  \n",
              "  if (typeof (root._bokeh_timeout) === \"undefined\" || force === true) {\n",
              "    root._bokeh_timeout = Date.now() + 5000;\n",
              "    root._bokeh_failed_load = false;\n",
              "  }\n",
              "\n",
              "  var NB_LOAD_WARNING = {'data': {'text/html':\n",
              "     \"<div style='background-color: #fdd'>\\n\"+\n",
              "     \"<p>\\n\"+\n",
              "     \"BokehJS does not appear to have successfully loaded. If loading BokehJS from CDN, this \\n\"+\n",
              "     \"may be due to a slow or bad network connection. Possible fixes:\\n\"+\n",
              "     \"</p>\\n\"+\n",
              "     \"<ul>\\n\"+\n",
              "     \"<li>re-rerun `output_notebook()` to attempt to load from CDN again, or</li>\\n\"+\n",
              "     \"<li>use INLINE resources instead, as so:</li>\\n\"+\n",
              "     \"</ul>\\n\"+\n",
              "     \"<code>\\n\"+\n",
              "     \"from bokeh.resources import INLINE\\n\"+\n",
              "     \"output_notebook(resources=INLINE)\\n\"+\n",
              "     \"</code>\\n\"+\n",
              "     \"</div>\"}};\n",
              "\n",
              "  function display_loaded() {\n",
              "    var el = document.getElementById(null);\n",
              "    if (el != null) {\n",
              "      el.textContent = \"BokehJS is loading...\";\n",
              "    }\n",
              "    if (root.Bokeh !== undefined) {\n",
              "      if (el != null) {\n",
              "        el.textContent = \"BokehJS \" + root.Bokeh.version + \" successfully loaded.\";\n",
              "      }\n",
              "    } else if (Date.now() < root._bokeh_timeout) {\n",
              "      setTimeout(display_loaded, 100)\n",
              "    }\n",
              "  }\n",
              "\n",
              "\n",
              "  function run_callbacks() {\n",
              "    try {\n",
              "      root._bokeh_onload_callbacks.forEach(function(callback) {\n",
              "        if (callback != null)\n",
              "          callback();\n",
              "      });\n",
              "    } finally {\n",
              "      delete root._bokeh_onload_callbacks\n",
              "    }\n",
              "    console.debug(\"Bokeh: all callbacks have finished\");\n",
              "  }\n",
              "\n",
              "  function load_libs(css_urls, js_urls, callback) {\n",
              "    if (css_urls == null) css_urls = [];\n",
              "    if (js_urls == null) js_urls = [];\n",
              "\n",
              "    root._bokeh_onload_callbacks.push(callback);\n",
              "    if (root._bokeh_is_loading > 0) {\n",
              "      console.debug(\"Bokeh: BokehJS is being loaded, scheduling callback at\", now());\n",
              "      return null;\n",
              "    }\n",
              "    if (js_urls == null || js_urls.length === 0) {\n",
              "      run_callbacks();\n",
              "      return null;\n",
              "    }\n",
              "    console.debug(\"Bokeh: BokehJS not loaded, scheduling load and callback at\", now());\n",
              "    root._bokeh_is_loading = css_urls.length + js_urls.length;\n",
              "\n",
              "    function on_load() {\n",
              "      root._bokeh_is_loading--;\n",
              "      if (root._bokeh_is_loading === 0) {\n",
              "        console.debug(\"Bokeh: all BokehJS libraries/stylesheets loaded\");\n",
              "        run_callbacks()\n",
              "      }\n",
              "    }\n",
              "\n",
              "    function on_error(url) {\n",
              "      console.error(\"failed to load \" + url);\n",
              "    }\n",
              "\n",
              "    for (let i = 0; i < css_urls.length; i++) {\n",
              "      const url = css_urls[i];\n",
              "      const element = document.createElement(\"link\");\n",
              "      element.onload = on_load;\n",
              "      element.onerror = on_error.bind(null, url);\n",
              "      element.rel = \"stylesheet\";\n",
              "      element.type = \"text/css\";\n",
              "      element.href = url;\n",
              "      console.debug(\"Bokeh: injecting link tag for BokehJS stylesheet: \", url);\n",
              "      document.body.appendChild(element);\n",
              "    }\n",
              "\n",
              "    const hashes = {\"https://cdn.bokeh.org/bokeh/release/bokeh-2.3.1.min.js\": \"YF85VygJKMVnHE+lLv2AM93Vbstr0yo2TbIu5v8se5Rq3UQAUmcuh4aaJwNlpKwa\", \"https://cdn.bokeh.org/bokeh/release/bokeh-widgets-2.3.1.min.js\": \"KKuas3gevv3PvrlkyCMzffFeaMq5we/a2QsP5AUoS3mJ0jmaCL7jirFJN3GoE/lM\", \"https://cdn.bokeh.org/bokeh/release/bokeh-tables-2.3.1.min.js\": \"MK/uFc3YT18pkvvXRl66tTHjP0/dxoSH2e/eiNMFIguKlun2+WVqaPTWmUy/zvh4\"};\n",
              "\n",
              "    for (let i = 0; i < js_urls.length; i++) {\n",
              "      const url = js_urls[i];\n",
              "      const element = document.createElement('script');\n",
              "      element.onload = on_load;\n",
              "      element.onerror = on_error.bind(null, url);\n",
              "      element.async = false;\n",
              "      element.src = url;\n",
              "      if (url in hashes) {\n",
              "        element.crossOrigin = \"anonymous\";\n",
              "        element.integrity = \"sha384-\" + hashes[url];\n",
              "      }\n",
              "      console.debug(\"Bokeh: injecting script tag for BokehJS library: \", url);\n",
              "      document.head.appendChild(element);\n",
              "    }\n",
              "  };\n",
              "\n",
              "  function inject_raw_css(css) {\n",
              "    const element = document.createElement(\"style\");\n",
              "    element.appendChild(document.createTextNode(css));\n",
              "    document.body.appendChild(element);\n",
              "  }\n",
              "\n",
              "  \n",
              "  var js_urls = [\"https://cdn.bokeh.org/bokeh/release/bokeh-2.3.1.min.js\", \"https://cdn.bokeh.org/bokeh/release/bokeh-widgets-2.3.1.min.js\", \"https://cdn.bokeh.org/bokeh/release/bokeh-tables-2.3.1.min.js\"];\n",
              "  var css_urls = [];\n",
              "  \n",
              "\n",
              "  var inline_js = [\n",
              "    function(Bokeh) {\n",
              "      Bokeh.set_log_level(\"info\");\n",
              "    },\n",
              "    function(Bokeh) {\n",
              "    \n",
              "    \n",
              "    }\n",
              "  ];\n",
              "\n",
              "  function run_inline_js() {\n",
              "    \n",
              "    if (root.Bokeh !== undefined || force === true) {\n",
              "      \n",
              "    for (var i = 0; i < inline_js.length; i++) {\n",
              "      inline_js[i].call(root, root.Bokeh);\n",
              "    }\n",
              "    } else if (Date.now() < root._bokeh_timeout) {\n",
              "      setTimeout(run_inline_js, 100);\n",
              "    } else if (!root._bokeh_failed_load) {\n",
              "      console.log(\"Bokeh: BokehJS failed to load within specified timeout.\");\n",
              "      root._bokeh_failed_load = true;\n",
              "    } else if (force !== true) {\n",
              "      var cell = $(document.getElementById(null)).parents('.cell').data().cell;\n",
              "      cell.output_area.append_execute_result(NB_LOAD_WARNING)\n",
              "    }\n",
              "\n",
              "  }\n",
              "\n",
              "  if (root._bokeh_is_loading === 0) {\n",
              "    console.debug(\"Bokeh: BokehJS loaded, going straight to plotting\");\n",
              "    run_inline_js();\n",
              "  } else {\n",
              "    load_libs(css_urls, js_urls, function() {\n",
              "      console.debug(\"Bokeh: BokehJS plotting callback run at\", now());\n",
              "      run_inline_js();\n",
              "    });\n",
              "  }\n",
              "}(window));"
            ],
            "application/vnd.bokehjs_load.v0+json": "\n(function(root) {\n  function now() {\n    return new Date();\n  }\n\n  var force = true;\n\n  if (typeof root._bokeh_onload_callbacks === \"undefined\" || force === true) {\n    root._bokeh_onload_callbacks = [];\n    root._bokeh_is_loading = undefined;\n  }\n\n  \n\n  \n  if (typeof (root._bokeh_timeout) === \"undefined\" || force === true) {\n    root._bokeh_timeout = Date.now() + 5000;\n    root._bokeh_failed_load = false;\n  }\n\n  var NB_LOAD_WARNING = {'data': {'text/html':\n     \"<div style='background-color: #fdd'>\\n\"+\n     \"<p>\\n\"+\n     \"BokehJS does not appear to have successfully loaded. If loading BokehJS from CDN, this \\n\"+\n     \"may be due to a slow or bad network connection. Possible fixes:\\n\"+\n     \"</p>\\n\"+\n     \"<ul>\\n\"+\n     \"<li>re-rerun `output_notebook()` to attempt to load from CDN again, or</li>\\n\"+\n     \"<li>use INLINE resources instead, as so:</li>\\n\"+\n     \"</ul>\\n\"+\n     \"<code>\\n\"+\n     \"from bokeh.resources import INLINE\\n\"+\n     \"output_notebook(resources=INLINE)\\n\"+\n     \"</code>\\n\"+\n     \"</div>\"}};\n\n  function display_loaded() {\n    var el = document.getElementById(null);\n    if (el != null) {\n      el.textContent = \"BokehJS is loading...\";\n    }\n    if (root.Bokeh !== undefined) {\n      if (el != null) {\n        el.textContent = \"BokehJS \" + root.Bokeh.version + \" successfully loaded.\";\n      }\n    } else if (Date.now() < root._bokeh_timeout) {\n      setTimeout(display_loaded, 100)\n    }\n  }\n\n\n  function run_callbacks() {\n    try {\n      root._bokeh_onload_callbacks.forEach(function(callback) {\n        if (callback != null)\n          callback();\n      });\n    } finally {\n      delete root._bokeh_onload_callbacks\n    }\n    console.debug(\"Bokeh: all callbacks have finished\");\n  }\n\n  function load_libs(css_urls, js_urls, callback) {\n    if (css_urls == null) css_urls = [];\n    if (js_urls == null) js_urls = [];\n\n    root._bokeh_onload_callbacks.push(callback);\n    if (root._bokeh_is_loading > 0) {\n      console.debug(\"Bokeh: BokehJS is being loaded, scheduling callback at\", now());\n      return null;\n    }\n    if (js_urls == null || js_urls.length === 0) {\n      run_callbacks();\n      return null;\n    }\n    console.debug(\"Bokeh: BokehJS not loaded, scheduling load and callback at\", now());\n    root._bokeh_is_loading = css_urls.length + js_urls.length;\n\n    function on_load() {\n      root._bokeh_is_loading--;\n      if (root._bokeh_is_loading === 0) {\n        console.debug(\"Bokeh: all BokehJS libraries/stylesheets loaded\");\n        run_callbacks()\n      }\n    }\n\n    function on_error(url) {\n      console.error(\"failed to load \" + url);\n    }\n\n    for (let i = 0; i < css_urls.length; i++) {\n      const url = css_urls[i];\n      const element = document.createElement(\"link\");\n      element.onload = on_load;\n      element.onerror = on_error.bind(null, url);\n      element.rel = \"stylesheet\";\n      element.type = \"text/css\";\n      element.href = url;\n      console.debug(\"Bokeh: injecting link tag for BokehJS stylesheet: \", url);\n      document.body.appendChild(element);\n    }\n\n    const hashes = {\"https://cdn.bokeh.org/bokeh/release/bokeh-2.3.1.min.js\": \"YF85VygJKMVnHE+lLv2AM93Vbstr0yo2TbIu5v8se5Rq3UQAUmcuh4aaJwNlpKwa\", \"https://cdn.bokeh.org/bokeh/release/bokeh-widgets-2.3.1.min.js\": \"KKuas3gevv3PvrlkyCMzffFeaMq5we/a2QsP5AUoS3mJ0jmaCL7jirFJN3GoE/lM\", \"https://cdn.bokeh.org/bokeh/release/bokeh-tables-2.3.1.min.js\": \"MK/uFc3YT18pkvvXRl66tTHjP0/dxoSH2e/eiNMFIguKlun2+WVqaPTWmUy/zvh4\"};\n\n    for (let i = 0; i < js_urls.length; i++) {\n      const url = js_urls[i];\n      const element = document.createElement('script');\n      element.onload = on_load;\n      element.onerror = on_error.bind(null, url);\n      element.async = false;\n      element.src = url;\n      if (url in hashes) {\n        element.crossOrigin = \"anonymous\";\n        element.integrity = \"sha384-\" + hashes[url];\n      }\n      console.debug(\"Bokeh: injecting script tag for BokehJS library: \", url);\n      document.head.appendChild(element);\n    }\n  };\n\n  function inject_raw_css(css) {\n    const element = document.createElement(\"style\");\n    element.appendChild(document.createTextNode(css));\n    document.body.appendChild(element);\n  }\n\n  \n  var js_urls = [\"https://cdn.bokeh.org/bokeh/release/bokeh-2.3.1.min.js\", \"https://cdn.bokeh.org/bokeh/release/bokeh-widgets-2.3.1.min.js\", \"https://cdn.bokeh.org/bokeh/release/bokeh-tables-2.3.1.min.js\"];\n  var css_urls = [];\n  \n\n  var inline_js = [\n    function(Bokeh) {\n      Bokeh.set_log_level(\"info\");\n    },\n    function(Bokeh) {\n    \n    \n    }\n  ];\n\n  function run_inline_js() {\n    \n    if (root.Bokeh !== undefined || force === true) {\n      \n    for (var i = 0; i < inline_js.length; i++) {\n      inline_js[i].call(root, root.Bokeh);\n    }\n    } else if (Date.now() < root._bokeh_timeout) {\n      setTimeout(run_inline_js, 100);\n    } else if (!root._bokeh_failed_load) {\n      console.log(\"Bokeh: BokehJS failed to load within specified timeout.\");\n      root._bokeh_failed_load = true;\n    } else if (force !== true) {\n      var cell = $(document.getElementById(null)).parents('.cell').data().cell;\n      cell.output_area.append_execute_result(NB_LOAD_WARNING)\n    }\n\n  }\n\n  if (root._bokeh_is_loading === 0) {\n    console.debug(\"Bokeh: BokehJS loaded, going straight to plotting\");\n    run_inline_js();\n  } else {\n    load_libs(css_urls, js_urls, function() {\n      console.debug(\"Bokeh: BokehJS plotting callback run at\", now());\n      run_inline_js();\n    });\n  }\n}(window));"
          },
          "metadata": {
            "tags": []
          }
        },
        {
          "output_type": "display_data",
          "data": {
            "text/html": [
              "\n",
              "\n",
              "\n",
              "\n",
              "\n",
              "\n",
              "  <div class=\"bk-root\" id=\"057f50a3-56f5-4504-82f1-934d9a3e57b2\" data-root-id=\"1164\"></div>\n"
            ]
          },
          "metadata": {
            "tags": []
          }
        },
        {
          "output_type": "display_data",
          "data": {
            "application/javascript": [
              "(function(root) {\n",
              "  function embed_document(root) {\n",
              "    \n",
              "  var docs_json = {\"92b022c1-7111-4324-9581-83386e781e1c\":{\"defs\":[],\"roots\":{\"references\":[{\"attributes\":{\"children\":[{\"id\":\"1003\"},{\"id\":\"1139\"}]},\"id\":\"1164\",\"type\":\"Column\"},{\"attributes\":{\"background_fill_color\":\"#F8F9FA\",\"below\":[{\"id\":\"1149\"}],\"center\":[{\"id\":\"1152\"}],\"height\":130,\"renderers\":[{\"id\":\"1160\"}],\"title\":{\"id\":\"1140\"},\"toolbar\":{\"id\":\"1153\"},\"toolbar_location\":null,\"width\":800,\"x_range\":{\"id\":\"1142\"},\"x_scale\":{\"id\":\"1145\"},\"y_range\":{\"id\":\"1008\"},\"y_scale\":{\"id\":\"1147\"}},\"id\":\"1139\",\"subtype\":\"Figure\",\"type\":\"Plot\"},{\"attributes\":{},\"id\":\"1052\",\"type\":\"UnionRenderers\"},{\"attributes\":{\"data_source\":{\"id\":\"1002\"},\"glyph\":{\"id\":\"1029\"},\"hover_glyph\":null,\"muted_glyph\":null,\"nonselection_glyph\":{\"id\":\"1030\"},\"view\":{\"id\":\"1027\"}},\"id\":\"1031\",\"type\":\"GlyphRenderer\"},{\"attributes\":{\"fill_alpha\":{\"value\":0.1},\"fill_color\":{\"field\":\"colors\"},\"line_alpha\":{\"value\":0.1},\"line_color\":{\"value\":null},\"size\":{\"value\":10},\"x\":{\"field\":\"date\"},\"y\":{\"field\":\"release\"}},\"id\":\"1030\",\"type\":\"Circle\"},{\"attributes\":{},\"id\":\"1173\",\"type\":\"DatetimeTickFormatter\"},{\"attributes\":{},\"id\":\"1051\",\"type\":\"Selection\"},{\"attributes\":{\"text\":\"Big Query Release Notes\"},\"id\":\"1004\",\"type\":\"Title\"},{\"attributes\":{\"formatter\":{\"id\":\"1173\"},\"major_label_policy\":{\"id\":\"1175\"},\"ticker\":{\"id\":\"1150\"}},\"id\":\"1149\",\"type\":\"DatetimeAxis\"},{\"attributes\":{\"num_minor_ticks\":5,\"tickers\":[{\"id\":\"1190\"},{\"id\":\"1191\"},{\"id\":\"1192\"},{\"id\":\"1193\"},{\"id\":\"1194\"},{\"id\":\"1195\"},{\"id\":\"1196\"},{\"id\":\"1197\"},{\"id\":\"1198\"},{\"id\":\"1199\"},{\"id\":\"1200\"},{\"id\":\"1201\"}]},\"id\":\"1150\",\"type\":\"DatetimeTicker\"},{\"attributes\":{\"axis\":{\"id\":\"1149\"},\"ticker\":null},\"id\":\"1152\",\"type\":\"Grid\"},{\"attributes\":{\"end\":1618185600000.0,\"start\":1581638400000.0},\"id\":\"1006\",\"type\":\"Range1d\"},{\"attributes\":{\"months\":[0,1,2,3,4,5,6,7,8,9,10,11]},\"id\":\"1046\",\"type\":\"MonthsTicker\"},{\"attributes\":{\"days\":[1,15]},\"id\":\"1196\",\"type\":\"DaysTicker\"},{\"attributes\":{\"base\":24,\"mantissas\":[1,2,4,6,8,12],\"max_interval\":43200000.0,\"min_interval\":3600000.0,\"num_minor_ticks\":0},\"id\":\"1192\",\"type\":\"AdaptiveTicker\"},{\"attributes\":{\"factors\":[\"Feature\",\"release-announcement\",\"Change\",\"Issue\",\"Fix\"]},\"id\":\"1008\",\"type\":\"FactorRange\"},{\"attributes\":{\"months\":[0,2,4,6,8,10]},\"id\":\"1047\",\"type\":\"MonthsTicker\"},{\"attributes\":{\"months\":[0,4,8]},\"id\":\"1048\",\"type\":\"MonthsTicker\"},{\"attributes\":{\"active_multi\":{\"id\":\"1154\"},\"tools\":[{\"id\":\"1154\"}]},\"id\":\"1153\",\"type\":\"Toolbar\"},{\"attributes\":{\"months\":[0,6]},\"id\":\"1049\",\"type\":\"MonthsTicker\"},{\"attributes\":{},\"id\":\"1010\",\"type\":\"LinearScale\"},{\"attributes\":{\"mantissas\":[1,2,5],\"max_interval\":500.0,\"num_minor_ticks\":0},\"id\":\"1190\",\"type\":\"AdaptiveTicker\"},{\"attributes\":{},\"id\":\"1050\",\"type\":\"YearsTicker\"},{\"attributes\":{\"filters\":[{\"id\":\"1055\"}],\"source\":{\"id\":\"1002\"}},\"id\":\"1056\",\"type\":\"CDSView\"},{\"attributes\":{\"days\":[1,4,7,10,13,16,19,22,25,28]},\"id\":\"1194\",\"type\":\"DaysTicker\"},{\"attributes\":{},\"id\":\"1012\",\"type\":\"CategoricalScale\"},{\"attributes\":{\"column_name\":\"product\",\"group\":\"bqml\"},\"id\":\"1055\",\"type\":\"GroupFilter\"},{\"attributes\":{\"base\":60,\"mantissas\":[1,2,5,10,15,20,30],\"max_interval\":1800000.0,\"min_interval\":1000.0,\"num_minor_ticks\":0},\"id\":\"1191\",\"type\":\"AdaptiveTicker\"},{\"attributes\":{\"formatter\":{\"id\":\"1033\"},\"major_label_policy\":{\"id\":\"1035\"},\"ticker\":{\"id\":\"1015\"}},\"id\":\"1014\",\"type\":\"DatetimeAxis\"},{\"attributes\":{\"axis\":{\"id\":\"1018\"},\"dimension\":1,\"ticker\":null},\"id\":\"1020\",\"type\":\"Grid\"},{\"attributes\":{\"fill_alpha\":{\"value\":0.1},\"fill_color\":{\"field\":\"colors\"},\"line_alpha\":{\"value\":0.1},\"line_color\":{\"value\":null},\"size\":{\"value\":10},\"x\":{\"field\":\"date\"},\"y\":{\"field\":\"release\"}},\"id\":\"1059\",\"type\":\"Circle\"},{\"attributes\":{\"days\":[1,2,3,4,5,6,7,8,9,10,11,12,13,14,15,16,17,18,19,20,21,22,23,24,25,26,27,28,29,30,31]},\"id\":\"1193\",\"type\":\"DaysTicker\"},{\"attributes\":{\"num_minor_ticks\":5,\"tickers\":[{\"id\":\"1039\"},{\"id\":\"1040\"},{\"id\":\"1041\"},{\"id\":\"1042\"},{\"id\":\"1043\"},{\"id\":\"1044\"},{\"id\":\"1045\"},{\"id\":\"1046\"},{\"id\":\"1047\"},{\"id\":\"1048\"},{\"id\":\"1049\"},{\"id\":\"1050\"}]},\"id\":\"1015\",\"type\":\"DatetimeTicker\"},{\"attributes\":{\"axis\":{\"id\":\"1014\"},\"ticker\":null},\"id\":\"1017\",\"type\":\"Grid\"},{\"attributes\":{\"label\":{\"value\":\"BigQuery ML\"},\"renderers\":[{\"id\":\"1060\"}]},\"id\":\"1082\",\"type\":\"LegendItem\"},{\"attributes\":{\"days\":[1,8,15,22]},\"id\":\"1195\",\"type\":\"DaysTicker\"},{\"attributes\":{},\"id\":\"1019\",\"type\":\"CategoricalTicker\"},{\"attributes\":{\"axis_label\":\"Release Type\",\"formatter\":{\"id\":\"1036\"},\"major_label_policy\":{\"id\":\"1038\"},\"ticker\":{\"id\":\"1019\"}},\"id\":\"1018\",\"type\":\"CategoricalAxis\"},{\"attributes\":{\"data_source\":{\"id\":\"1002\"},\"glyph\":{\"id\":\"1058\"},\"hover_glyph\":null,\"muted_glyph\":null,\"nonselection_glyph\":{\"id\":\"1059\"},\"view\":{\"id\":\"1056\"}},\"id\":\"1060\",\"type\":\"GlyphRenderer\"},{\"attributes\":{\"filters\":[{\"id\":\"1083\"}],\"source\":{\"id\":\"1002\"}},\"id\":\"1084\",\"type\":\"CDSView\"},{\"attributes\":{\"callback\":null,\"tooltips\":[[\"\",\"@productname\"],[\"\",\"@tip\"]]},\"id\":\"1022\",\"type\":\"HoverTool\"},{\"attributes\":{\"fill_color\":{\"field\":\"colors\"},\"line_color\":{\"value\":null},\"size\":{\"value\":10},\"x\":{\"field\":\"date\"},\"y\":{\"field\":\"release\"}},\"id\":\"1086\",\"type\":\"Circle\"},{\"attributes\":{\"fill_color\":{\"field\":\"colors\"},\"line_color\":{\"value\":null},\"x\":{\"field\":\"date\"},\"y\":{\"field\":\"release\"}},\"id\":\"1158\",\"type\":\"Circle\"},{\"attributes\":{\"column_name\":\"product\",\"group\":\"bq\"},\"id\":\"1026\",\"type\":\"GroupFilter\"},{\"attributes\":{\"data_source\":{\"id\":\"1002\"},\"glyph\":{\"id\":\"1158\"},\"hover_glyph\":null,\"muted_glyph\":null,\"nonselection_glyph\":{\"id\":\"1159\"},\"view\":{\"id\":\"1161\"}},\"id\":\"1160\",\"type\":\"GlyphRenderer\"},{\"attributes\":{\"dimensions\":\"width\"},\"id\":\"1021\",\"type\":\"PanTool\"},{\"attributes\":{\"column_name\":\"product\",\"group\":\"bqbi\"},\"id\":\"1083\",\"type\":\"GroupFilter\"},{\"attributes\":{\"fill_alpha\":{\"value\":0.1},\"fill_color\":{\"field\":\"colors\"},\"line_alpha\":{\"value\":0.1},\"line_color\":{\"value\":null},\"x\":{\"field\":\"date\"},\"y\":{\"field\":\"release\"}},\"id\":\"1159\",\"type\":\"Circle\"},{\"attributes\":{},\"id\":\"1035\",\"type\":\"AllLabels\"},{\"attributes\":{\"filters\":[{\"id\":\"1111\"}],\"source\":{\"id\":\"1002\"}},\"id\":\"1112\",\"type\":\"CDSView\"},{\"attributes\":{\"source\":{\"id\":\"1002\"}},\"id\":\"1161\",\"type\":\"CDSView\"},{\"attributes\":{\"fill_alpha\":{\"value\":0.1},\"fill_color\":{\"field\":\"colors\"},\"line_alpha\":{\"value\":0.1},\"line_color\":{\"value\":null},\"size\":{\"value\":10},\"x\":{\"field\":\"date\"},\"y\":{\"field\":\"release\"}},\"id\":\"1087\",\"type\":\"Circle\"},{\"attributes\":{},\"id\":\"1036\",\"type\":\"CategoricalTickFormatter\"},{\"attributes\":{},\"id\":\"1038\",\"type\":\"AllLabels\"},{\"attributes\":{\"label\":{\"value\":\"BigQuery BI Engine\"},\"renderers\":[{\"id\":\"1088\"}]},\"id\":\"1110\",\"type\":\"LegendItem\"},{\"attributes\":{\"column_name\":\"product\",\"group\":\"bqdt\"},\"id\":\"1111\",\"type\":\"GroupFilter\"},{\"attributes\":{\"data_source\":{\"id\":\"1002\"},\"glyph\":{\"id\":\"1086\"},\"hover_glyph\":null,\"muted_glyph\":null,\"nonselection_glyph\":{\"id\":\"1087\"},\"view\":{\"id\":\"1084\"}},\"id\":\"1088\",\"type\":\"GlyphRenderer\"},{\"attributes\":{\"mantissas\":[1,2,5],\"max_interval\":500.0,\"num_minor_ticks\":0},\"id\":\"1039\",\"type\":\"AdaptiveTicker\"},{\"attributes\":{\"months\":[0,6]},\"id\":\"1200\",\"type\":\"MonthsTicker\"},{\"attributes\":{\"click_policy\":\"hide\",\"items\":[{\"id\":\"1054\"},{\"id\":\"1082\"},{\"id\":\"1110\"},{\"id\":\"1138\"}],\"location\":\"top_left\"},\"id\":\"1053\",\"type\":\"Legend\"},{\"attributes\":{\"fill_color\":{\"field\":\"colors\"},\"line_color\":{\"value\":null},\"size\":{\"value\":10},\"x\":{\"field\":\"date\"},\"y\":{\"field\":\"release\"}},\"id\":\"1114\",\"type\":\"Circle\"},{\"attributes\":{\"months\":[0,1,2,3,4,5,6,7,8,9,10,11]},\"id\":\"1197\",\"type\":\"MonthsTicker\"},{\"attributes\":{},\"id\":\"1033\",\"type\":\"DatetimeTickFormatter\"},{\"attributes\":{\"months\":[0,2,4,6,8,10]},\"id\":\"1198\",\"type\":\"MonthsTicker\"},{\"attributes\":{\"label\":{\"value\":\"BigQuery\"},\"renderers\":[{\"id\":\"1031\"}]},\"id\":\"1054\",\"type\":\"LegendItem\"},{\"attributes\":{},\"id\":\"1175\",\"type\":\"AllLabels\"},{\"attributes\":{\"days\":[1,2,3,4,5,6,7,8,9,10,11,12,13,14,15,16,17,18,19,20,21,22,23,24,25,26,27,28,29,30,31]},\"id\":\"1042\",\"type\":\"DaysTicker\"},{\"attributes\":{\"months\":[0,4,8]},\"id\":\"1199\",\"type\":\"MonthsTicker\"},{\"attributes\":{\"active_multi\":null,\"tools\":[{\"id\":\"1021\"},{\"id\":\"1022\"}]},\"id\":\"1023\",\"type\":\"Toolbar\"},{\"attributes\":{\"data_source\":{\"id\":\"1002\"},\"glyph\":{\"id\":\"1114\"},\"hover_glyph\":null,\"muted_glyph\":null,\"nonselection_glyph\":{\"id\":\"1115\"},\"view\":{\"id\":\"1112\"}},\"id\":\"1116\",\"type\":\"GlyphRenderer\"},{\"attributes\":{\"text\":\"Drag the middle and edges of the selection box to change the range above\"},\"id\":\"1140\",\"type\":\"Title\"},{\"attributes\":{\"fill_color\":{\"field\":\"colors\"},\"line_color\":{\"value\":null},\"size\":{\"value\":10},\"x\":{\"field\":\"date\"},\"y\":{\"field\":\"release\"}},\"id\":\"1029\",\"type\":\"Circle\"},{\"attributes\":{\"filters\":[{\"id\":\"1026\"}],\"source\":{\"id\":\"1002\"}},\"id\":\"1027\",\"type\":\"CDSView\"},{\"attributes\":{\"fill_alpha\":{\"value\":0.1},\"fill_color\":{\"field\":\"colors\"},\"line_alpha\":{\"value\":0.1},\"line_color\":{\"value\":null},\"size\":{\"value\":10},\"x\":{\"field\":\"date\"},\"y\":{\"field\":\"release\"}},\"id\":\"1115\",\"type\":\"Circle\"},{\"attributes\":{},\"id\":\"1201\",\"type\":\"YearsTicker\"},{\"attributes\":{\"label\":{\"value\":\"BigQuery Data Transfer Service\"},\"renderers\":[{\"id\":\"1116\"}]},\"id\":\"1138\",\"type\":\"LegendItem\"},{\"attributes\":{},\"id\":\"1142\",\"type\":\"DataRange1d\"},{\"attributes\":{\"days\":[1,8,15,22]},\"id\":\"1044\",\"type\":\"DaysTicker\"},{\"attributes\":{},\"id\":\"1145\",\"type\":\"LinearScale\"},{\"attributes\":{\"fill_color\":{\"field\":\"colors\"},\"line_color\":{\"value\":null},\"size\":{\"value\":10},\"x\":{\"field\":\"date\"},\"y\":{\"field\":\"release\"}},\"id\":\"1058\",\"type\":\"Circle\"},{\"attributes\":{\"fill_alpha\":0.2,\"fill_color\":\"#5F6368\",\"level\":\"overlay\",\"line_alpha\":1.0,\"line_color\":\"black\",\"line_dash\":[2,2],\"line_width\":0.5,\"syncable\":false},\"id\":\"1155\",\"type\":\"BoxAnnotation\"},{\"attributes\":{\"base\":60,\"mantissas\":[1,2,5,10,15,20,30],\"max_interval\":1800000.0,\"min_interval\":1000.0,\"num_minor_ticks\":0},\"id\":\"1040\",\"type\":\"AdaptiveTicker\"},{\"attributes\":{\"overlay\":{\"id\":\"1155\"},\"x_range\":{\"id\":\"1006\"},\"y_range\":null},\"id\":\"1154\",\"type\":\"RangeTool\"},{\"attributes\":{\"days\":[1,4,7,10,13,16,19,22,25,28]},\"id\":\"1043\",\"type\":\"DaysTicker\"},{\"attributes\":{\"base\":24,\"mantissas\":[1,2,4,6,8,12],\"max_interval\":43200000.0,\"min_interval\":3600000.0,\"num_minor_ticks\":0},\"id\":\"1041\",\"type\":\"AdaptiveTicker\"},{\"attributes\":{\"above\":[{\"id\":\"1014\"}],\"background_fill_color\":\"#F8F9FA\",\"center\":[{\"id\":\"1017\"},{\"id\":\"1020\"},{\"id\":\"1053\"}],\"height\":300,\"left\":[{\"id\":\"1018\"}],\"renderers\":[{\"id\":\"1031\"},{\"id\":\"1060\"},{\"id\":\"1088\"},{\"id\":\"1116\"}],\"title\":{\"id\":\"1004\"},\"toolbar\":{\"id\":\"1023\"},\"toolbar_location\":null,\"width\":800,\"x_range\":{\"id\":\"1006\"},\"x_scale\":{\"id\":\"1010\"},\"y_range\":{\"id\":\"1008\"},\"y_scale\":{\"id\":\"1012\"}},\"id\":\"1003\",\"subtype\":\"Figure\",\"type\":\"Plot\"},{\"attributes\":{},\"id\":\"1147\",\"type\":\"CategoricalScale\"},{\"attributes\":{\"days\":[1,15]},\"id\":\"1045\",\"type\":\"DaysTicker\"},{\"attributes\":{\"data\":{\"colors\":[\"#4285F4\",\"#4285F4\",\"#4285F4\",\"#4285F4\",\"#4285F4\",\"#4285F4\",\"#4285F4\",\"#4285F4\",\"#4285F4\",\"#4285F4\",\"#4285F4\",\"#4285F4\",\"#EA4335\",\"#4285F4\",\"#FBBC04\",\"#34A853\",\"#EA4335\",\"#4285F4\",\"#4285F4\",\"#FBBC04\",\"#4285F4\",\"#34A853\",\"#34A853\",\"#4285F4\",\"#4285F4\",\"#4285F4\",\"#4285F4\",\"#EA4335\",\"#4285F4\",\"#34A853\",\"#FBBC04\",\"#4285F4\",\"#4285F4\",\"#34A853\",\"#4285F4\",\"#4285F4\",\"#EA4335\",\"#EA4335\",\"#EA4335\",\"#4285F4\",\"#4285F4\",\"#4285F4\",\"#4285F4\",\"#4285F4\",\"#4285F4\",\"#4285F4\",\"#4285F4\",\"#4285F4\",\"#4285F4\",\"#4285F4\",\"#4285F4\",\"#4285F4\",\"#4285F4\",\"#4285F4\",\"#EA4335\",\"#4285F4\",\"#4285F4\",\"#34A853\",\"#4285F4\",\"#4285F4\",\"#4285F4\",\"#EA4335\",\"#4285F4\",\"#4285F4\",\"#4285F4\",\"#4285F4\",\"#4285F4\",\"#EA4335\",\"#4285F4\",\"#4285F4\",\"#4285F4\",\"#34A853\",\"#FBBC04\",\"#EA4335\",\"#4285F4\",\"#4285F4\",\"#34A853\",\"#4285F4\",\"#4285F4\",\"#EA4335\",\"#4285F4\",\"#4285F4\",\"#EA4335\",\"#4285F4\",\"#4285F4\",\"#4285F4\",\"#4285F4\",\"#4285F4\",\"#34A853\",\"#EA4335\",\"#4285F4\",\"#FBBC04\",\"#4285F4\",\"#34A853\",\"#EA4335\",\"#4285F4\",\"#4285F4\",\"#4285F4\",\"#4285F4\",\"#4285F4\",\"#4285F4\",\"#4285F4\",\"#4285F4\",\"#4285F4\",\"#4285F4\",\"#4285F4\",\"#4285F4\",\"#4285F4\",\"#4285F4\",\"#4285F4\",\"#4285F4\",\"#34A853\",\"#4285F4\",\"#34A853\",\"#FBBC04\",\"#4285F4\",\"#EA4335\",\"#EA4335\",\"#EA4335\",\"#4285F4\",\"#4285F4\",\"#34A853\",\"#4285F4\",\"#4285F4\",\"#4285F4\",\"#4285F4\",\"#4285F4\",\"#4285F4\",\"#34A853\",\"#34A853\",\"#34A853\",\"#34A853\",\"#4285F4\",\"#4285F4\",\"#4285F4\",\"#4285F4\",\"#34A853\",\"#4285F4\",\"#4285F4\",\"#34A853\",\"#EA4335\",\"#4285F4\",\"#FBBC04\",\"#34A853\",\"#FBBC04\",\"#FBBC04\",\"#FBBC04\",\"#4285F4\",\"#4285F4\",\"#4285F4\",\"#4285F4\",\"#4285F4\",\"#EA4335\",\"#4285F4\",\"#4285F4\",\"#34A853\",\"#4285F4\",\"#4285F4\",\"#4285F4\",\"#34A853\",\"#34A853\",\"#EA4335\",\"#4285F4\",\"#4285F4\",\"#4285F4\",\"#34A853\",\"#EA4335\",\"#4285F4\",\"#4285F4\",\"#4285F4\",\"#4285F4\",\"#EA4335\",\"#EA4335\",\"#EA4335\",\"#4285F4\",\"#4285F4\",\"#4285F4\",\"#4285F4\",\"#4285F4\",\"#4285F4\",\"#4285F4\",\"#34A853\",\"#4285F4\",\"#EA4335\",\"#FBBC04\",\"#34A853\",\"#EA4335\",\"#4285F4\",\"#EA4335\",\"#FBBC04\",\"#FBBC04\",\"#4285F4\",\"#4285F4\",\"#4285F4\",\"#4285F4\",\"#4285F4\",\"#4285F4\",\"#4285F4\",\"#4285F4\",\"#4285F4\",\"#EA4335\",\"#4285F4\",\"#34A853\",\"#34A853\",\"#4285F4\",\"#4285F4\",\"#4285F4\",\"#EA4335\",\"#4285F4\",\"#4285F4\",\"#EA4335\",\"#4285F4\",\"#EA4335\",\"#FBBC04\",\"#4285F4\",\"#4285F4\",\"#FBBC04\",\"#4285F4\",\"#34A853\",\"#EA4335\",\"#4285F4\",\"#34A853\",\"#4285F4\",\"#4285F4\",\"#34A853\",\"#EA4335\",\"#4285F4\",\"#34A853\",\"#34A853\",\"#EA4335\",\"#EA4335\",\"#4285F4\",\"#4285F4\",\"#34A853\",\"#4285F4\",\"#4285F4\",\"#4285F4\",\"#4285F4\",\"#4285F4\",\"#4285F4\",\"#4285F4\",\"#4285F4\",\"#4285F4\",\"#34A853\",\"#4285F4\",\"#4285F4\",\"#EA4335\",\"#4285F4\",\"#4285F4\",\"#4285F4\",\"#EA4335\",\"#EA4335\",\"#4285F4\",\"#4285F4\",\"#4285F4\",\"#4285F4\",\"#4285F4\",\"#4285F4\",\"#4285F4\",\"#EA4335\",\"#4285F4\",\"#4285F4\",\"#EA4335\",\"#4285F4\",\"#EA4335\",\"#4285F4\",\"#4285F4\",\"#4285F4\",\"#4285F4\",\"#34A853\",\"#4285F4\",\"#4285F4\",\"#EA4335\",\"#EA4335\",\"#4285F4\",\"#4285F4\",\"#4285F4\",\"#4285F4\",\"#4285F4\",\"#4285F4\",\"#34A853\",\"#4285F4\",\"#4285F4\",\"#EA4335\",\"#4285F4\",\"#4285F4\",\"#4285F4\",\"#34A853\",\"#34A853\",\"#34A853\",\"#4285F4\",\"#4285F4\",\"#4285F4\",\"#34A853\",\"#4285F4\",\"#4285F4\",\"#4285F4\",\"#4285F4\",\"#4285F4\",\"#4285F4\",\"#4285F4\",\"#34A853\",\"#4285F4\",\"#4285F4\",\"#4285F4\",\"#4285F4\",\"#34A853\",\"#4285F4\",\"#4285F4\",\"#4285F4\",\"#4285F4\",\"#4285F4\",\"#4285F4\",\"#34A853\",\"#34A853\",\"#34A853\",\"#4285F4\",\"#4285F4\",\"#4285F4\",\"#34A853\",\"#4285F4\",\"#34A853\",\"#34A853\",\"#34A853\",\"#4285F4\",\"#4285F4\",\"#4285F4\",\"#4285F4\",\"#4285F4\",\"#4285F4\",\"#4285F4\",\"#4285F4\",\"#34A853\",\"#4285F4\",\"#4285F4\",\"#4285F4\",\"#4285F4\",\"#4285F4\",\"#4285F4\",\"#4285F4\",\"#4285F4\",\"#4285F4\",\"#4285F4\",\"#4285F4\",\"#4285F4\",\"#4285F4\",\"#4285F4\",\"#4285F4\",\"#4285F4\",\"#4285F4\",\"#4285F4\",\"#4285F4\",\"#4285F4\",\"#4285F4\",\"#4285F4\",\"#34A853\",\"#4285F4\",\"#4285F4\",\"#4285F4\",\"#4285F4\",\"#4285F4\",\"#4285F4\",\"#4285F4\",\"#4285F4\",\"#4285F4\",\"#4285F4\",\"#4285F4\",\"#4285F4\",\"#4285F4\",\"#4285F4\",\"#4285F4\",\"#34A853\",\"#4285F4\",\"#4285F4\",\"#4285F4\",\"#4285F4\",\"#4285F4\",\"#4285F4\",\"#4285F4\",\"#4285F4\",\"#4285F4\",\"#4285F4\",\"#4285F4\",\"#4285F4\",\"#4285F4\",\"#4285F4\",\"#4285F4\",\"#4285F4\",\"#4285F4\",\"#4285F4\",\"#4285F4\",\"#4285F4\",\"#4285F4\",\"#4285F4\",\"#4285F4\",\"#4285F4\",\"#4285F4\",\"#4285F4\",\"#4285F4\",\"#4285F4\",\"#4285F4\",\"#4285F4\",\"#4285F4\",\"#4285F4\",\"#4285F4\",\"#4285F4\",\"#4285F4\",\"#4285F4\",\"#4285F4\",\"#4285F4\",\"#4285F4\",\"#4285F4\",\"#4285F4\",\"#4285F4\",\"#4285F4\",\"#4285F4\",\"#4285F4\",\"#4285F4\",\"#4285F4\",\"#4285F4\",\"#4285F4\",\"#4285F4\",\"#4285F4\",\"#4285F4\",\"#4285F4\",\"#4285F4\",\"#4285F4\",\"#4285F4\",\"#4285F4\",\"#4285F4\",\"#4285F4\",\"#4285F4\",\"#4285F4\",\"#4285F4\",\"#4285F4\",\"#4285F4\",\"#4285F4\",\"#4285F4\",\"#4285F4\",\"#4285F4\",\"#4285F4\",\"#4285F4\",\"#4285F4\",\"#4285F4\",\"#4285F4\",\"#4285F4\",\"#4285F4\",\"#4285F4\",\"#4285F4\",\"#4285F4\",\"#4285F4\",\"#4285F4\",\"#4285F4\",\"#4285F4\",\"#4285F4\",\"#4285F4\",\"#4285F4\",\"#4285F4\",\"#4285F4\",\"#4285F4\",\"#4285F4\",\"#4285F4\",\"#4285F4\",\"#4285F4\",\"#4285F4\",\"#4285F4\",\"#4285F4\",\"#4285F4\",\"#4285F4\",\"#4285F4\",\"#4285F4\",\"#4285F4\",\"#4285F4\",\"#4285F4\",\"#4285F4\",\"#4285F4\",\"#4285F4\",\"#4285F4\",\"#4285F4\",\"#4285F4\",\"#4285F4\",\"#4285F4\",\"#4285F4\",\"#4285F4\",\"#4285F4\",\"#4285F4\",\"#4285F4\",\"#4285F4\",\"#4285F4\",\"#4285F4\",\"#4285F4\",\"#4285F4\",\"#4285F4\",\"#4285F4\",\"#4285F4\"],\"date\":{\"__ndarray__\":\"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\",\"dtype\":\"float64\",\"order\":\"little\",\"shape\":[495]},\"product\":[\"bq\",\"bq\",\"bq\",\"bq\",\"bq\",\"bq\",\"bq\",\"bq\",\"bq\",\"bq\",\"bq\",\"bq\",\"bqml\",\"bq\",\"bqbi\",\"bqdt\",\"bqml\",\"bq\",\"bq\",\"bqbi\",\"bq\",\"bqdt\",\"bqdt\",\"bq\",\"bq\",\"bq\",\"bq\",\"bqml\",\"bq\",\"bqdt\",\"bqbi\",\"bq\",\"bq\",\"bqdt\",\"bq\",\"bq\",\"bqml\",\"bqml\",\"bqml\",\"bq\",\"bq\",\"bq\",\"bq\",\"bq\",\"bq\",\"bq\",\"bq\",\"bq\",\"bq\",\"bq\",\"bq\",\"bq\",\"bq\",\"bq\",\"bqml\",\"bq\",\"bq\",\"bqdt\",\"bq\",\"bq\",\"bq\",\"bqml\",\"bq\",\"bq\",\"bq\",\"bq\",\"bq\",\"bqml\",\"bq\",\"bq\",\"bq\",\"bqdt\",\"bqbi\",\"bqml\",\"bq\",\"bq\",\"bqdt\",\"bq\",\"bq\",\"bqml\",\"bq\",\"bq\",\"bqml\",\"bq\",\"bq\",\"bq\",\"bq\",\"bq\",\"bqdt\",\"bqml\",\"bq\",\"bqbi\",\"bq\",\"bqdt\",\"bqml\",\"bq\",\"bq\",\"bq\",\"bq\",\"bq\",\"bq\",\"bq\",\"bq\",\"bq\",\"bq\",\"bq\",\"bq\",\"bq\",\"bq\",\"bq\",\"bq\",\"bqdt\",\"bq\",\"bqdt\",\"bqbi\",\"bq\",\"bqml\",\"bqml\",\"bqml\",\"bq\",\"bq\",\"bqdt\",\"bq\",\"bq\",\"bq\",\"bq\",\"bq\",\"bq\",\"bqdt\",\"bqdt\",\"bqdt\",\"bqdt\",\"bq\",\"bq\",\"bq\",\"bq\",\"bqdt\",\"bq\",\"bq\",\"bqdt\",\"bqml\",\"bq\",\"bqbi\",\"bqdt\",\"bqbi\",\"bqbi\",\"bqbi\",\"bq\",\"bq\",\"bq\",\"bq\",\"bq\",\"bqml\",\"bq\",\"bq\",\"bqdt\",\"bq\",\"bq\",\"bq\",\"bqdt\",\"bqdt\",\"bqml\",\"bq\",\"bq\",\"bq\",\"bqdt\",\"bqml\",\"bq\",\"bq\",\"bq\",\"bq\",\"bqml\",\"bqml\",\"bqml\",\"bq\",\"bq\",\"bq\",\"bq\",\"bq\",\"bq\",\"bq\",\"bqdt\",\"bq\",\"bqml\",\"bqbi\",\"bqdt\",\"bqml\",\"bq\",\"bqml\",\"bqbi\",\"bqbi\",\"bq\",\"bq\",\"bq\",\"bq\",\"bq\",\"bq\",\"bq\",\"bq\",\"bq\",\"bqml\",\"bq\",\"bqdt\",\"bqdt\",\"bq\",\"bq\",\"bq\",\"bqml\",\"bq\",\"bq\",\"bqml\",\"bq\",\"bqml\",\"bqbi\",\"bq\",\"bq\",\"bqbi\",\"bq\",\"bqdt\",\"bqml\",\"bq\",\"bqdt\",\"bq\",\"bq\",\"bqdt\",\"bqml\",\"bq\",\"bqdt\",\"bqdt\",\"bqml\",\"bqml\",\"bq\",\"bq\",\"bqdt\",\"bq\",\"bq\",\"bq\",\"bq\",\"bq\",\"bq\",\"bq\",\"bq\",\"bq\",\"bqdt\",\"bq\",\"bq\",\"bqml\",\"bq\",\"bq\",\"bq\",\"bqml\",\"bqml\",\"bq\",\"bq\",\"bq\",\"bq\",\"bq\",\"bq\",\"bq\",\"bqml\",\"bq\",\"bq\",\"bqml\",\"bq\",\"bqml\",\"bq\",\"bq\",\"bq\",\"bq\",\"bqdt\",\"bq\",\"bq\",\"bqml\",\"bqml\",\"bq\",\"bq\",\"bq\",\"bq\",\"bq\",\"bq\",\"bqdt\",\"bq\",\"bq\",\"bqml\",\"bq\",\"bq\",\"bq\",\"bqdt\",\"bqdt\",\"bqdt\",\"bq\",\"bq\",\"bq\",\"bqdt\",\"bq\",\"bq\",\"bq\",\"bq\",\"bq\",\"bq\",\"bq\",\"bqdt\",\"bq\",\"bq\",\"bq\",\"bq\",\"bqdt\",\"bq\",\"bq\",\"bq\",\"bq\",\"bq\",\"bq\",\"bqdt\",\"bqdt\",\"bqdt\",\"bq\",\"bq\",\"bq\",\"bqdt\",\"bq\",\"bqdt\",\"bqdt\",\"bqdt\",\"bq\",\"bq\",\"bq\",\"bq\",\"bq\",\"bq\",\"bq\",\"bq\",\"bqdt\",\"bq\",\"bq\",\"bq\",\"bq\",\"bq\",\"bq\",\"bq\",\"bq\",\"bq\",\"bq\",\"bq\",\"bq\",\"bq\",\"bq\",\"bq\",\"bq\",\"bq\",\"bq\",\"bq\",\"bq\",\"bq\",\"bq\",\"bqdt\",\"bq\",\"bq\",\"bq\",\"bq\",\"bq\",\"bq\",\"bq\",\"bq\",\"bq\",\"bq\",\"bq\",\"bq\",\"bq\",\"bq\",\"bq\",\"bqdt\",\"bq\",\"bq\",\"bq\",\"bq\",\"bq\",\"bq\",\"bq\",\"bq\",\"bq\",\"bq\",\"bq\",\"bq\",\"bq\",\"bq\",\"bq\",\"bq\",\"bq\",\"bq\",\"bq\",\"bq\",\"bq\",\"bq\",\"bq\",\"bq\",\"bq\",\"bq\",\"bq\",\"bq\",\"bq\",\"bq\",\"bq\",\"bq\",\"bq\",\"bq\",\"bq\",\"bq\",\"bq\",\"bq\",\"bq\",\"bq\",\"bq\",\"bq\",\"bq\",\"bq\",\"bq\",\"bq\",\"bq\",\"bq\",\"bq\",\"bq\",\"bq\",\"bq\",\"bq\",\"bq\",\"bq\",\"bq\",\"bq\",\"bq\",\"bq\",\"bq\",\"bq\",\"bq\",\"bq\",\"bq\",\"bq\",\"bq\",\"bq\",\"bq\",\"bq\",\"bq\",\"bq\",\"bq\",\"bq\",\"bq\",\"bq\",\"bq\",\"bq\",\"bq\",\"bq\",\"bq\",\"bq\",\"bq\",\"bq\",\"bq\",\"bq\",\"bq\",\"bq\",\"bq\",\"bq\",\"bq\",\"bq\",\"bq\",\"bq\",\"bq\",\"bq\",\"bq\",\"bq\",\"bq\",\"bq\",\"bq\",\"bq\",\"bq\",\"bq\",\"bq\",\"bq\",\"bq\",\"bq\",\"bq\",\"bq\",\"bq\",\"bq\",\"bq\",\"bq\",\"bq\",\"bq\",\"bq\",\"bq\",\"bq\",\"bq\",\"bq\",\"bq\",\"bq\",\"bq\"],\"productname\":[\"BigQuery\",\"BigQuery\",\"BigQuery\",\"BigQuery\",\"BigQuery\",\"BigQuery\",\"BigQuery\",\"BigQuery\",\"BigQuery\",\"BigQuery\",\"BigQuery\",\"BigQuery\",\"BigQuery ML\",\"BigQuery\",\"BigQuery BI Engine\",\"BigQuery Data Transfer Service\",\"BigQuery ML\",\"BigQuery\",\"BigQuery\",\"BigQuery BI Engine\",\"BigQuery\",\"BigQuery Data Transfer Service\",\"BigQuery Data Transfer Service\",\"BigQuery\",\"BigQuery\",\"BigQuery\",\"BigQuery\",\"BigQuery ML\",\"BigQuery\",\"BigQuery Data Transfer Service\",\"BigQuery BI Engine\",\"BigQuery\",\"BigQuery\",\"BigQuery Data Transfer Service\",\"BigQuery\",\"BigQuery\",\"BigQuery ML\",\"BigQuery ML\",\"BigQuery ML\",\"BigQuery\",\"BigQuery\",\"BigQuery\",\"BigQuery\",\"BigQuery\",\"BigQuery\",\"BigQuery\",\"BigQuery\",\"BigQuery\",\"BigQuery\",\"BigQuery\",\"BigQuery\",\"BigQuery\",\"BigQuery\",\"BigQuery\",\"BigQuery ML\",\"BigQuery\",\"BigQuery\",\"BigQuery Data Transfer Service\",\"BigQuery\",\"BigQuery\",\"BigQuery\",\"BigQuery ML\",\"BigQuery\",\"BigQuery\",\"BigQuery\",\"BigQuery\",\"BigQuery\",\"BigQuery ML\",\"BigQuery\",\"BigQuery\",\"BigQuery\",\"BigQuery Data Transfer Service\",\"BigQuery BI Engine\",\"BigQuery ML\",\"BigQuery\",\"BigQuery\",\"BigQuery Data Transfer Service\",\"BigQuery\",\"BigQuery\",\"BigQuery ML\",\"BigQuery\",\"BigQuery\",\"BigQuery ML\",\"BigQuery\",\"BigQuery\",\"BigQuery\",\"BigQuery\",\"BigQuery\",\"BigQuery Data Transfer Service\",\"BigQuery ML\",\"BigQuery\",\"BigQuery BI Engine\",\"BigQuery\",\"BigQuery Data Transfer Service\",\"BigQuery ML\",\"BigQuery\",\"BigQuery\",\"BigQuery\",\"BigQuery\",\"BigQuery\",\"BigQuery\",\"BigQuery\",\"BigQuery\",\"BigQuery\",\"BigQuery\",\"BigQuery\",\"BigQuery\",\"BigQuery\",\"BigQuery\",\"BigQuery\",\"BigQuery\",\"BigQuery Data Transfer Service\",\"BigQuery\",\"BigQuery Data Transfer Service\",\"BigQuery BI Engine\",\"BigQuery\",\"BigQuery ML\",\"BigQuery ML\",\"BigQuery ML\",\"BigQuery\",\"BigQuery\",\"BigQuery Data Transfer Service\",\"BigQuery\",\"BigQuery\",\"BigQuery\",\"BigQuery\",\"BigQuery\",\"BigQuery\",\"BigQuery Data Transfer Service\",\"BigQuery Data Transfer Service\",\"BigQuery Data Transfer Service\",\"BigQuery Data Transfer Service\",\"BigQuery\",\"BigQuery\",\"BigQuery\",\"BigQuery\",\"BigQuery Data Transfer Service\",\"BigQuery\",\"BigQuery\",\"BigQuery Data Transfer Service\",\"BigQuery ML\",\"BigQuery\",\"BigQuery BI Engine\",\"BigQuery Data Transfer Service\",\"BigQuery BI Engine\",\"BigQuery BI Engine\",\"BigQuery BI Engine\",\"BigQuery\",\"BigQuery\",\"BigQuery\",\"BigQuery\",\"BigQuery\",\"BigQuery ML\",\"BigQuery\",\"BigQuery\",\"BigQuery Data Transfer Service\",\"BigQuery\",\"BigQuery\",\"BigQuery\",\"BigQuery Data Transfer Service\",\"BigQuery Data Transfer Service\",\"BigQuery ML\",\"BigQuery\",\"BigQuery\",\"BigQuery\",\"BigQuery Data Transfer Service\",\"BigQuery ML\",\"BigQuery\",\"BigQuery\",\"BigQuery\",\"BigQuery\",\"BigQuery ML\",\"BigQuery ML\",\"BigQuery ML\",\"BigQuery\",\"BigQuery\",\"BigQuery\",\"BigQuery\",\"BigQuery\",\"BigQuery\",\"BigQuery\",\"BigQuery Data Transfer Service\",\"BigQuery\",\"BigQuery ML\",\"BigQuery BI Engine\",\"BigQuery Data Transfer Service\",\"BigQuery ML\",\"BigQuery\",\"BigQuery ML\",\"BigQuery BI Engine\",\"BigQuery BI Engine\",\"BigQuery\",\"BigQuery\",\"BigQuery\",\"BigQuery\",\"BigQuery\",\"BigQuery\",\"BigQuery\",\"BigQuery\",\"BigQuery\",\"BigQuery ML\",\"BigQuery\",\"BigQuery Data Transfer Service\",\"BigQuery Data Transfer Service\",\"BigQuery\",\"BigQuery\",\"BigQuery\",\"BigQuery ML\",\"BigQuery\",\"BigQuery\",\"BigQuery ML\",\"BigQuery\",\"BigQuery ML\",\"BigQuery BI Engine\",\"BigQuery\",\"BigQuery\",\"BigQuery BI Engine\",\"BigQuery\",\"BigQuery Data Transfer Service\",\"BigQuery ML\",\"BigQuery\",\"BigQuery Data Transfer Service\",\"BigQuery\",\"BigQuery\",\"BigQuery Data Transfer Service\",\"BigQuery ML\",\"BigQuery\",\"BigQuery Data Transfer Service\",\"BigQuery Data Transfer Service\",\"BigQuery ML\",\"BigQuery ML\",\"BigQuery\",\"BigQuery\",\"BigQuery Data Transfer Service\",\"BigQuery\",\"BigQuery\",\"BigQuery\",\"BigQuery\",\"BigQuery\",\"BigQuery\",\"BigQuery\",\"BigQuery\",\"BigQuery\",\"BigQuery Data Transfer Service\",\"BigQuery\",\"BigQuery\",\"BigQuery ML\",\"BigQuery\",\"BigQuery\",\"BigQuery\",\"BigQuery ML\",\"BigQuery ML\",\"BigQuery\",\"BigQuery\",\"BigQuery\",\"BigQuery\",\"BigQuery\",\"BigQuery\",\"BigQuery\",\"BigQuery ML\",\"BigQuery\",\"BigQuery\",\"BigQuery ML\",\"BigQuery\",\"BigQuery ML\",\"BigQuery\",\"BigQuery\",\"BigQuery\",\"BigQuery\",\"BigQuery Data Transfer Service\",\"BigQuery\",\"BigQuery\",\"BigQuery ML\",\"BigQuery ML\",\"BigQuery\",\"BigQuery\",\"BigQuery\",\"BigQuery\",\"BigQuery\",\"BigQuery\",\"BigQuery Data Transfer Service\",\"BigQuery\",\"BigQuery\",\"BigQuery ML\",\"BigQuery\",\"BigQuery\",\"BigQuery\",\"BigQuery Data Transfer Service\",\"BigQuery Data Transfer Service\",\"BigQuery Data Transfer Service\",\"BigQuery\",\"BigQuery\",\"BigQuery\",\"BigQuery Data Transfer Service\",\"BigQuery\",\"BigQuery\",\"BigQuery\",\"BigQuery\",\"BigQuery\",\"BigQuery\",\"BigQuery\",\"BigQuery Data Transfer Service\",\"BigQuery\",\"BigQuery\",\"BigQuery\",\"BigQuery\",\"BigQuery Data Transfer Service\",\"BigQuery\",\"BigQuery\",\"BigQuery\",\"BigQuery\",\"BigQuery\",\"BigQuery\",\"BigQuery Data Transfer Service\",\"BigQuery Data Transfer Service\",\"BigQuery Data Transfer Service\",\"BigQuery\",\"BigQuery\",\"BigQuery\",\"BigQuery Data Transfer Service\",\"BigQuery\",\"BigQuery Data Transfer Service\",\"BigQuery Data Transfer Service\",\"BigQuery Data Transfer Service\",\"BigQuery\",\"BigQuery\",\"BigQuery\",\"BigQuery\",\"BigQuery\",\"BigQuery\",\"BigQuery\",\"BigQuery\",\"BigQuery Data Transfer Service\",\"BigQuery\",\"BigQuery\",\"BigQuery\",\"BigQuery\",\"BigQuery\",\"BigQuery\",\"BigQuery\",\"BigQuery\",\"BigQuery\",\"BigQuery\",\"BigQuery\",\"BigQuery\",\"BigQuery\",\"BigQuery\",\"BigQuery\",\"BigQuery\",\"BigQuery\",\"BigQuery\",\"BigQuery\",\"BigQuery\",\"BigQuery\",\"BigQuery\",\"BigQuery Data Transfer Service\",\"BigQuery\",\"BigQuery\",\"BigQuery\",\"BigQuery\",\"BigQuery\",\"BigQuery\",\"BigQuery\",\"BigQuery\",\"BigQuery\",\"BigQuery\",\"BigQuery\",\"BigQuery\",\"BigQuery\",\"BigQuery\",\"BigQuery\",\"BigQuery Data Transfer Service\",\"BigQuery\",\"BigQuery\",\"BigQuery\",\"BigQuery\",\"BigQuery\",\"BigQuery\",\"BigQuery\",\"BigQuery\",\"BigQuery\",\"BigQuery\",\"BigQuery\",\"BigQuery\",\"BigQuery\",\"BigQuery\",\"BigQuery\",\"BigQuery\",\"BigQuery\",\"BigQuery\",\"BigQuery\",\"BigQuery\",\"BigQuery\",\"BigQuery\",\"BigQuery\",\"BigQuery\",\"BigQuery\",\"BigQuery\",\"BigQuery\",\"BigQuery\",\"BigQuery\",\"BigQuery\",\"BigQuery\",\"BigQuery\",\"BigQuery\",\"BigQuery\",\"BigQuery\",\"BigQuery\",\"BigQuery\",\"BigQuery\",\"BigQuery\",\"BigQuery\",\"BigQuery\",\"BigQuery\",\"BigQuery\",\"BigQuery\",\"BigQuery\",\"BigQuery\",\"BigQuery\",\"BigQuery\",\"BigQuery\",\"BigQuery\",\"BigQuery\",\"BigQuery\",\"BigQuery\",\"BigQuery\",\"BigQuery\",\"BigQuery\",\"BigQuery\",\"BigQuery\",\"BigQuery\",\"BigQuery\",\"BigQuery\",\"BigQuery\",\"BigQuery\",\"BigQuery\",\"BigQuery\",\"BigQuery\",\"BigQuery\",\"BigQuery\",\"BigQuery\",\"BigQuery\",\"BigQuery\",\"BigQuery\",\"BigQuery\",\"BigQuery\",\"BigQuery\",\"BigQuery\",\"BigQuery\",\"BigQuery\",\"BigQuery\",\"BigQuery\",\"BigQuery\",\"BigQuery\",\"BigQuery\",\"BigQuery\",\"BigQuery\",\"BigQuery\",\"BigQuery\",\"BigQuery\",\"BigQuery\",\"BigQuery\",\"BigQuery\",\"BigQuery\",\"BigQuery\",\"BigQuery\",\"BigQuery\",\"BigQuery\",\"BigQuery\",\"BigQuery\",\"BigQuery\",\"BigQuery\",\"BigQuery\",\"BigQuery\",\"BigQuery\",\"BigQuery\",\"BigQuery\",\"BigQuery\",\"BigQuery\",\"BigQuery\",\"BigQuery\",\"BigQuery\",\"BigQuery\",\"BigQuery\",\"BigQuery\",\"BigQuery\",\"BigQuery\",\"BigQuery\",\"BigQuery\",\"BigQuery\",\"BigQuery\",\"BigQuery\",\"BigQuery\",\"BigQuery\",\"BigQuery\"],\"release\":[\"Feature\",\"Feature\",\"release-announcement\",\"Feature\",\"Feature\",\"Change\",\"Feature\",\"Feature\",\"Feature\",\"Feature\",\"Feature\",\"Feature\",\"Change\",\"Change\",\"Change\",\"Change\",\"Change\",\"Change\",\"Change\",\"Feature\",\"Feature\",\"Change\",\"Change\",\"Feature\",\"Change\",\"Change\",\"Feature\",\"Change\",\"Change\",\"Change\",\"Change\",\"Change\",\"Feature\",\"Feature\",\"Change\",\"Change\",\"Feature\",\"Feature\",\"Feature\",\"Feature\",\"Feature\",\"Change\",\"Feature\",\"Change\",\"Feature\",\"Feature\",\"Feature\",\"Feature\",\"Feature\",\"Feature\",\"Feature\",\"Feature\",\"Feature\",\"Feature\",\"Feature\",\"Feature\",\"Change\",\"Change\",\"Change\",\"Feature\",\"Change\",\"Feature\",\"Feature\",\"Feature\",\"Feature\",\"Feature\",\"Feature\",\"Feature\",\"Change\",\"Change\",\"Change\",\"Change\",\"Change\",\"Change\",\"Change\",\"Feature\",\"Change\",\"Change\",\"Feature\",\"Feature\",\"Feature\",\"Change\",\"Feature\",\"Feature\",\"Change\",\"Feature\",\"Change\",\"Feature\",\"Feature\",\"Feature\",\"Feature\",\"Change\",\"Change\",\"Change\",\"Change\",\"Feature\",\"Change\",\"Feature\",\"Feature\",\"Change\",\"Change\",\"Feature\",\"Feature\",\"Feature\",\"Feature\",\"Feature\",\"Change\",\"Change\",\"Feature\",\"Feature\",\"Feature\",\"Change\",\"Change\",\"Change\",\"Change\",\"Change\",\"Change\",\"Feature\",\"Feature\",\"Change\",\"Feature\",\"Feature\",\"Feature\",\"Feature\",\"Feature\",\"Feature\",\"Feature\",\"Feature\",\"Change\",\"Feature\",\"Change\",\"Change\",\"Feature\",\"Change\",\"Feature\",\"Feature\",\"Feature\",\"Change\",\"Feature\",\"Feature\",\"Change\",\"Change\",\"Change\",\"Feature\",\"Feature\",\"Change\",\"Change\",\"Feature\",\"Feature\",\"Change\",\"Change\",\"Change\",\"Change\",\"Change\",\"Change\",\"Change\",\"Feature\",\"Feature\",\"Feature\",\"Feature\",\"Feature\",\"Feature\",\"Feature\",\"Feature\",\"Change\",\"Feature\",\"Feature\",\"Change\",\"Feature\",\"Feature\",\"Feature\",\"Feature\",\"Feature\",\"Change\",\"Change\",\"Feature\",\"Feature\",\"Feature\",\"Change\",\"Feature\",\"Change\",\"Feature\",\"Feature\",\"Feature\",\"Change\",\"Change\",\"Feature\",\"Feature\",\"Feature\",\"Feature\",\"Change\",\"Feature\",\"Feature\",\"Change\",\"Feature\",\"Change\",\"Feature\",\"Feature\",\"Change\",\"Feature\",\"Feature\",\"Feature\",\"Feature\",\"Feature\",\"Change\",\"Change\",\"Feature\",\"Feature\",\"Change\",\"Feature\",\"Feature\",\"Change\",\"Feature\",\"Feature\",\"Change\",\"Feature\",\"Feature\",\"Feature\",\"Feature\",\"Feature\",\"Feature\",\"Feature\",\"Feature\",\"Change\",\"Feature\",\"Feature\",\"Feature\",\"Change\",\"Feature\",\"Change\",\"Change\",\"Change\",\"Feature\",\"Change\",\"Feature\",\"Feature\",\"Feature\",\"Feature\",\"Feature\",\"Change\",\"Change\",\"Feature\",\"Feature\",\"Change\",\"Change\",\"Feature\",\"Feature\",\"Feature\",\"Feature\",\"Feature\",\"Feature\",\"Feature\",\"Change\",\"Change\",\"Feature\",\"Feature\",\"Change\",\"Change\",\"Feature\",\"Change\",\"Feature\",\"Feature\",\"Change\",\"Feature\",\"Change\",\"Feature\",\"Feature\",\"Feature\",\"Change\",\"Feature\",\"Change\",\"Change\",\"Feature\",\"Feature\",\"Feature\",\"Feature\",\"Feature\",\"Change\",\"Feature\",\"Feature\",\"Change\",\"Feature\",\"Feature\",\"Feature\",\"Change\",\"Feature\",\"Feature\",\"Feature\",\"Feature\",\"Change\",\"Feature\",\"Feature\",\"Feature\",\"Feature\",\"Feature\",\"Feature\",\"Change\",\"Change\",\"Feature\",\"Change\",\"Change\",\"Change\",\"Feature\",\"Feature\",\"Change\",\"Feature\",\"Feature\",\"Feature\",\"Feature\",\"Feature\",\"Feature\",\"Change\",\"Feature\",\"Feature\",\"Change\",\"Feature\",\"Feature\",\"Change\",\"Feature\",\"Feature\",\"Feature\",\"Feature\",\"Feature\",\"Change\",\"Change\",\"Feature\",\"Feature\",\"Feature\",\"Change\",\"Feature\",\"Feature\",\"Feature\",\"Feature\",\"Change\",\"Change\",\"Feature\",\"Feature\",\"Change\",\"Feature\",\"Feature\",\"Feature\",\"Feature\",\"Feature\",\"Change\",\"Feature\",\"Feature\",\"Feature\",\"Feature\",\"Feature\",\"Feature\",\"Feature\",\"Feature\",\"Feature\",\"Feature\",\"Feature\",\"Feature\",\"Feature\",\"Feature\",\"Feature\",\"Feature\",\"Feature\",\"Feature\",\"Feature\",\"Change\",\"Feature\",\"Change\",\"Feature\",\"Feature\",\"Feature\",\"Change\",\"Change\",\"Feature\",\"Feature\",\"Feature\",\"Change\",\"Feature\",\"Feature\",\"Change\",\"Feature\",\"Feature\",\"Feature\",\"Feature\",\"Feature\",\"Feature\",\"Feature\",\"Feature\",\"Feature\",\"Issue\",\"Feature\",\"Feature\",\"Feature\",\"Feature\",\"Feature\",\"Feature\",\"Feature\",\"Feature\",\"Feature\",\"Feature\",\"Feature\",\"Feature\",\"Feature\",\"Change\",\"Change\",\"Change\",\"Feature\",\"Feature\",\"Feature\",\"Feature\",\"Feature\",\"Feature\",\"Feature\",\"Change\",\"Feature\",\"Feature\",\"Feature\",\"Feature\",\"Change\",\"Feature\",\"Feature\",\"Feature\",\"Feature\",\"Feature\",\"Feature\",\"Change\",\"Feature\",\"Feature\",\"Feature\",\"Feature\",\"Feature\",\"Feature\",\"Feature\",\"Feature\",\"Change\",\"Change\",\"Feature\",\"Feature\",\"Change\",\"Change\",\"Feature\",\"Feature\",\"Change\",\"Feature\",\"Change\",\"Change\",\"Feature\",\"Change\",\"Feature\",\"Feature\",\"Feature\",\"Feature\",\"Feature\",\"Feature\",\"Feature\",\"Change\",\"Feature\",\"Change\",\"Feature\",\"Feature\",\"Feature\",\"Feature\",\"Feature\",\"Feature\",\"Change\",\"Feature\",\"Feature\",\"Feature\",\"Fix\",\"Change\",\"Feature\",\"Feature\",\"Change\",\"Feature\",\"Fix\",\"Change\",\"Change\",\"Fix\",\"Feature\",\"Fix\",\"Change\",\"Fix\",\"Change\",\"Change\",\"Change\",\"Change\",\"Change\",\"Change\",\"Change\",\"Change\",\"Change\",\"Change\",\"Feature\",\"Feature\",\"Feature\",\"Change\",\"Feature\"],\"tip\":[\"The BigQuery Admin Resource Charts Preview is now available for Reservation users, enabling administrators to more easily monitor and troubleshoot their BigQuery environment. It provides visibility into key metrics such as slot consumption, job concurrency, and job execution time across the entire organization.\",\"BigQuery now has better support for loading ENUM and LIST types in Parquet files. \",\"Beginning in early Q3 2021, BigQuery Storage Read API will start charging for network egress. In addition, BigQuery Storage Read API will become available in all locations, with appropriate pricing. Another release note will be issued when these changes take effect.\",\"The BigQuery Storage Write API is now in Preview. The Storage Write API is a stream-based API for ingesting data into BigQuery at low cost and high throughput. It provides exactly-once delivery semantics with real-time latency. For more information, see Using the BigQuery Storage Write API.\",\"BigQuery standard SQL now supports the ALTER TABLE DROP COLUMN. This feature is in Preview.\",\"The maximum length has been increased from 128 characters to 300 characters for the following BigQuery fields: table column names, column alias names, and user-defined function names.\",\"BigQuery standard SQL now supports the following statements for creating, configuring, and deleting datasets: \",\"BigQuery standard SQL now supports the TABLESAMPLE operator, which lets you query random subsets of data from large BigQuery tables. For more information, see Table sampling. This feature is in Preview. \",\"BigQuery standard SQL now supports the following JSON functions: \",\"INFORMATION_SCHEMA views for table partitions are now available. This feature is in Preview. \",\"The INFORMATION_SCHEMA.TABLES view now includes a DDL column that can be used to recreate the table. This feature is in Preview.\",\"Support for the BigNumeric type in BigQuery standard SQL is now generally available (GA).\",\"BigQuery ML is now available in the Warsaw (europe-central2) region.\",\"BigQuery is now available in the Warsaw (europe-central2) region.\",\"BigQuery BI Engine is now available in the Warsaw (europe-central2) region.\",\"BigQuery Data Transfer Service is now available in the Warsaw (europe-central2) region.\",\"BigQuery ML now supports training for DNN/Boosted Tree models in the Iowa (us-central1) region.\",\"Updated version of Magnitude Simba ODBC driver includes bug fixes, performance improvements, and enhancements such as support for dynamic SQL and additional DDL and DML keywords.\",\"Updated version of Magnitude Simba JDBC driver includes bug fixes and performance improvements.\",\"BigQuery BI Engine now interacts with popular BI tools such as Looker, Tableau, and more, by means of an SQL interface. You must enroll to participate in the  preview.\",\"BigQuery materialized views are now generally available (GA). BigQuery materialized views are now generally available (GA). Materialized views are precomputed views that periodically cache the results of a query, enhancing performance and efficiency, and reducing costs, particularly for aggregated queries. For more information, see Introduction to materialized views.\",\"The BigQuery Data Transfer Service's 1-hour minimum file age requirement for transfers from Cloud Storage has been eliminated.\",\"The BigQuery Data Transfer Service's minimum interval time between recurring transfers from Cloud Storage has been reduced from one hour to 15 minutes. \",\"BigQuery now supports exporting table data in Parquet format. This feature is in  Preview. For more information, see Parquet export details.\",\"BigQuery standard SQL queries on Google Cloud Storage data are now supported by  cached query results.\",\"Updated version of Magnitude Simba JDBC driver includes bug and security fixes and enhancements for additional DDL keywords and dynamic SQL.\",\"Clustered tables now support the DATETIME  type for clustering columns. For more information, see Creating and using clustered tables. This feature is generally available.\",\"BigQuery ML is now available in the Iowa (us-central1) region.\",\"BigQuery is now available in the Iowa (us-central1) region.\",\"The BigQuery Data Transfer Service is now available in the Iowa (us-central1) region.\",\"BigQuery BI Engine is now available in the Iowa (us-central1) region.\",\"BigQuery's Cloud Console UI has been updated with many usability improvements for analyzing data, including multi-tab navigation, a new resource panel, and a new SQL editor. These updates are in Preview. For more information, see Using the Cloud Console. \",\"BigQuery standard SQL now supports the BigNumeric data type for high-precision computations. The BigNumeric data type is in Preview.\",\"BigQuery Data Transfer Service is now fully integrated with VPC Service Controls, and can be protected using a service perimeter. Please refer to VPC-SC supported products page for more info.\",\"Updated version of Magnitude Simba ODBC driver includes bug fixes and enhancements such as support for BigNumeric data and improved driver logic.\",\"Updated version of Magnitude Simba JDBC driver includes bug and security fixes and enhancements such as support for Java 11, SSL trust store, BigNumeric data, and version-agnostic fully-qualified class names.\",\"Exporting BigQuery ML models to Cloud Storage and using them for online prediction is now generally available (GA). For more information, see Exporting models and the EXPORT MODEL statement.\",\"BigQuery ML integration with AI Platform for Boosted Tree models is now  generally available (GA). For more information, see the following documentation:\",\"BigQuery ML integration with AI Platform for Deep Neural Network (DNN) models is now  generally available (GA). For more information, see CREATE MODEL statement for Deep Neural Network (DNN) models.\",\"BigQuery column-level security is now generally available. Policy tags can be replicated across locations. For more information, see Introduction to BigQuery column-level security. \",\"BigQuery standard SQL now supports the SUBSTRING function. This function is  generally available (GA).\",\"Updated version of Magnitude Simba ODBC driver includes improvements to performance, logging, OpenSSL support, and bug fixes.\",\"The ST_GEOGFROMGEOJSON and ST_GEOGFROMTEXT geographic functions support a new make_valid parameter. If set to TRUE, the function attempts to correct polygon issues when importing geography data. \",\"BigQuery Audit Logs stopped using the following checks for redacting resource names for cross-project access and caller identities: The bigquery.jobs.create permission check and the internal setting for a project domain. Please review the documentation at Caller identities and resource names.\",\"Queries can now have duplicate column names.\",\"BigQuery now supports Unicode table names. For more information, see Table naming.\",\"The following INFORMATION_SCHEMA views are now generally available (GA).\",\"BigQuery standard SQL now supports DATE arithmetics operators.\",\"BigQuery now supports the following new statements. These statements are generally available (GA).\",\"BigQuery standard SQL now supports the following new functions. These functions are  generally available (GA).\",\"Dynamic SQL is now generally available (GA). Dynamic SQL lets you generate and execute SQL statements dynamically at runtime. For more information, see EXECUTE IMMEDIATE. \",\"The Cloud Console now lets you opt in to search and autocomplete powered by Data Catalog. This feature is in beta.\",\"Authorized user-defined functions (UDFs) are now generally available (GA). Authorized UDFs let you share query results without giving access to the underlying tables. For more information, see Authorized UDFs.\",\"BigQuery table-level access control is now generally available. For more information, see Introduction to table access controls .\",\"Time series models now let you change DATA_FREQUENCY from the default value (AUTO_FREQUENCY) when forecasting multiple time series using TIME_SERIES_ID_COL.\",\"The following time-unit partitioning features are now Generally Available (GA):\",\"Beginning in late 2020, all BigQuery predefined roles with permission to create jobs, including queries, will also be able to get information about their own jobs and cancel their own jobs.  This change does not include permission to see jobs created by other users.\",\"The BigQuery Data Transfer Service is now available in the following regions: Los Angeles (us-west2), S\\u00e3o Paulo (southamerica-east1), South Carolina (us-east1), Hong Kong (asia-east1) and Osaka (asia-northeast2).\",\"The BigQuery Data Transfer Service is now available in the following regions: Los Angeles (us-west2), S\\u00e3o Paulo (southamerica-east1), South Carolina (us-east1), Hong Kong (asia-east1) and Osaka (asia-northeast2).\",\"You can now use the BQ.JOBS.CANCEL system procedure to cancel a job. For more information, see Canceling jobs.\",\"Updated version of Magnitude Simba JDBC driver includes bug fixes and enhancements such as automatically turning on the BigQuery Storage API for anonymous table reads (no charge for temporary table reads).\",\"Time series model support is now  Generally Available (GA). This release includes a new training option: AUTO_ARIMA_MAX_ORDER.\",\"INFORMATION_SCHEMA views for BigQuery reservations are now Generally Available (GA). \",\"INFORMATION_SCHEMA views for jobs metadata by timeslice are now available.\",\"BigQuery support for using service account credentials with scheduled queries is Generally Available (GA).\",\"When using consecutive ON/USING clauses, parentheses are now optional and can be omitted. For example, you can use either of the following statements:\",\"You can now explicitly assign projects to use on-demand pricing with Reservations. See Assign a project to None.\",\"Matrix Factorization model support is now  Generally Available (GA). For more information, see the following documentation:\",\"The exports per day (Extract Bytes) default quota has been raised from 10 TB to 50 TB per day.\",\"For flat-rate pricing, the minimum slot purchase is now 100 slots. Slots can be purchased in 100-slot increments.\",\"BigQuery is now available in the following regions: Oregon (us-west1), Belgium (europe-west1), and Netherlands (europe-west4).\",\"BigQuery Data Transfer Service is now available following regions: Oregon (us-west1), Belgium (europe-west1), and Netherlands (europe-west4).\",\"BigQuery BI Engine is now available following regions: Oregon (us-west1), Belgium (europe-west1), and Netherlands (europe-west4).\",\"BigQuery ML is now available following regions: Oregon (us-west1), Belgium (europe-west1), and Netherlands (europe-west4).\",\"Updated version of Magnitude Simba ODBC driver includes performance improvements and bug fixes.\",\"INFORMATION_SCHEMA views for streaming metadata are now in alpha. You can use these views to retrieve historical\\nand real-time information about streaming data into BigQuery.\",\"BigQuery Data Transfer Service is now available in the following regions: Montr\\u00e9al (northamerica-northeast1), Frankfurt (europe-west3), Mumbai (asia-south1), and Seoul (asia-northeast3).\",\"BigQuery Data Transfer Service is now available in the following regions: Montr\\u00e9al (northamerica-northeast1), Frankfurt (europe-west3), Mumbai (asia-south1), and Seoul (asia-northeast3).\",\"BigQuery GIS now supports two new functions, ST_CONVEXHULL and ST_DUMP:\",\"Data split and validation options are now available for AutoML Table model training.\",\"The Standard SQL statement ASSERT is now supported. You can use ASSERT to validate that data matches specified expectations.\",\"Updated version of Magnitude Simba ODBC driver. This version includes some performance improvements and bug\\u00a0fixes, and it catches up with the JDBC driver by adding support for user defined functions and variable time zones using the connection string.\",\"BigQuery ML now supports time series models as a beta release. For more information, see CREATE MODEL statement for time series models.\",\"Flex slots are now generally available (GA).\",\"The BigQuery SLA has been updated to >= 99.99% Monthly Uptime Percentage for all users.\",\"Region qualified INFORMATION_SCHEMA views are now in beta.\",\"Starting in mid-August, unqualified INFORMATION_SCHEMA queries for SCHEMATA and SCHEMATA_OPTIONS views will default to returning metadata from the US multi-region. For information about how to specify a region, see region qualifier syntax.\",\"INFORMATION_SCHEMA views for jobs are now generally available (GA).\",\"The Top Brands report for Google Merchant Center Best Sellers exports is now in beta.\",\"BigQuery ML now supports beta integration with AI Platform. The following models are supported in beta:\",\"Clustering for non-partitioned tables is now supported. For more information about clustered tables, see Introduction to clustered tables.\",\"BigQuery BI Engine is now available in the Jakarta (asia-southeast2) region.\",\"BigQuery is now available in the Jakarta (asia-southeast2) region.\",\"BigQuery Data Transfer Service is now available in the Jakarta (asia-southeast2) region.\",\"BigQuery ML is now available in the Jakarta (asia-southeast2) region.\",\"BigQuery Table ACL is now available as a beta release. For more information, see Introduction to table access controls .\",\"Standard SQL view definition bodies can now contain references without project qualifiers, as long as the view is created by the tables.insert REST API or is in the same project used to run the CREATE VIEW DDL query.\",\"You can now purchase BigQuery slots using the bq command-line tool. BigQuery Reservations allows you to purchase slots to take advantage of BigQuery flat-rate pricing and allocate slots for workload management.\",\"A new GIS function, ST_Simplify, is available. ST_Simplify returns a simplified version of the input GEOGRAPHY by replacing sections with straight lines.\",\"Standard SQL user-defined function definition bodies can now contain references to tables and views.\",\"The BigQuery Storage API now supports reading small anonymous (cached) tables without any limitations.\",\"Hourly partitioned tables are now in beta.\",\"BigQuery Trial slots are now available in US and EU multi-regions. Trial slots are a limited promotion for qualified customers.\",\"Dynamic SQL is now available as a beta release in all BigQuery regions. Dynamic SQL lets you generate and execute SQL statements dynamically at runtime. For more information, see EXECUTE IMMEDIATE.\",\"Cloud SQL federated queries are now generally available (GA).\",\"Happy 10th birthday, BigQuery!\",\"Updated versions of Magnitude Simba JDBC drivers have been released.\",\"Updated versions of Magnitude Simba ODBC drivers have been released.\",\"Next generation BigQuery streaming is now Generally Available (GA).\",\"The ORDER BY clause now supports the NULLS FIRST and NULLS LAST clauses. These clauses allow you to specify the sort order of null and non-null values. For more information, see the ORDER BY reference section.\",\"A new function, JSON_EXTRACT_ARRAY, has been added to the list of JSON functions. This function allows you to extract the contents of a JSON document as a string array. For more information, see the JSON_EXTRACT_ARRAY reference section.\",\"BigQuery Data Transfer Service is now available in the Taiwan (asia-east1) region.\",\"The BigQuery Data Transfer Service is now available in the Taiwan (asia-east1) region.\",\"BigQuery Data Transfer Service is now available in the Las Vegas (us-west4) region.\",\"BigQuery BI Engine is now available in the Las Vegas (us-west4) region.\",\"BigQuery is now available in the Las Vegas (us-west4) region.\",\"BigQuery ML is now available in the Las Vegas (us-west4) region.\",\"BigQuery ML now supports exporting BigQuery ML models to Cloud Storage and using them for online prediction. This feature is in beta. For more information, see Exporting models.\",\"BigQuery ML now supports Matrix Factorization models for recommendations, as a beta release. For more information, see The CREATE MODEL statement for Matrix Factorization.\",\"Around the end of April 2020, INFORMATION_SCHEMA (Beta) views for dataset metadata will\\n         return metadata about all datasets in a region. Currently,\\n         these views return metadata about all datasets in the project across all regions. This\\n         upcoming change will also provide support for querying a specific\\n         region's metadata (for example, region-us.INFORMATION_SCHEMA.SCHEMATA instead of INFORMATION_SCHEMA.SCHEMATA).\",\"BigQuery Reservations is now Generally Available (GA). BigQuery Reservations allows you to purchase BigQuery slots to take advantage of BigQuery flat-rate pricing and allocate slots for workload management.\",\"BigQuery Data Transfer Service now supports Google Merchant Center data transfers for best sellers data.\",\"Scheduling queries no longer requires the bigquery.transfers.update permission. The bigquery.jobs.create permission can now be used to schedule queries. See Scheduling queries for details.\",\"BigQuery materialized views are now available as a beta release. For more information, see Introduction to materialized views .\",\"BigQuery Reservations is now available in all BigQuery regions.\",\"INFORMATION_SCHEMA views for BigQuery reservations are now in public alpha. \",\"Scripting and stored procedures are now Generally Available.\",\"BigQuery Column-level security is now available as a beta release. For more information, see Introduction to BigQuery Column-level security.\",\"BigQuery Data Transfer Service is now available in the Northern Virginia (us-east4) region and the Salt Lake City (us-west3) region.\",\"BigQuery Data Transfer Service now supports Google Merchant Center data transfers for pricing competitiveness.\",\"BigQuery Data Transfer Service now supports the Finland region.\",\"BigQuery Data Transfer Service now supports the Z\\u00fcrich region.\",\"Support for querying Cloud Storage data in ORC and Parquet format is now Generally Available.\",\"Personally identifiable information (PII) in audit log records for successful reads of resources with restricted access is no longer redacted. For more information, see Caller identities and resource names.\",\"Support for loading and querying externally partitioned data that is stored on Cloud Storage using a default hive partitioning layout is now Generally Available. The data must be in Avro, Parquet, ORC, CSV, or JSON format.\",\"The BigQuery Storage API is now generally available. For more information, see the Storage API overview.\",\"Cloud Storage transfers to BigQuery now have the option of appending data or refreshing (overwriting) data.\",\"BigQuery DML statements no longer have quota limits.\",\"BigQuery Flex slots are now available in beta in all BigQuery Reservations regions. See Workload management and Commitment plans for more information.\",\"Support for data transfers from Amazon S3 to BigQuery is now generally available.\",\"BigQuery ML is now available in the Salt Lake City (us-west3) region.\",\"BigQuery is now available in the Salt Lake City (us-west3) region.\",\"BI Engine is now available in the Salt Lake City (us-west3) region.\",\"Support for Amazon Redshift data warehouse migrations to BigQuery is now generally available. \",\"Added support for custom queries and views from Data Studio.\",\"BigQuery BI Engine is now GA.\",\"Increased reservation size to 100 GB.\",\"Support for tables partitioned on an integer column is now GA. For more information, see Creating and using integer range partitioned tables.\",\"INFORMATION_SCHEMA views for live and historical jobs metadata are now in beta. \",\"The BigQuery sandbox is now GA.\",\"Updated versions of Magnitude Simba ODBC drivers are now available.\",\"BigQuery is now available in the Seoul (asia-northeast3) region.\",\"BigQuery ML is now available in the Seoul (asia-northeast3) region.\",\"The BigQuery Storage API is now available in all BigQuery regional\\nand multi-regional locations. For more information, see\\nDataset locations.\",\"Updated versions of Magnitude Simba JDBC and ODBC drivers have been released.\",\"There is no longer a charge to use Google's ads management connectors and YouTube connectors for the BigQuery Data Transfer Service. Normal BigQuery analysis and storage pricing will continue to apply after any transfers.\",\"BigQuery Reservations is now available in the London (europe-west2) region.\",\"BigQuery Reservations is now available in the Tokyo (asia-northeast1) region.\",\"The ALTER TABLE and ALTER VIEW Data Definition Language statements are now Generally Available (GA).  These statements let you set options on tables and views. \",\"Support for transferring Google Play reports is now generally available GA.\",\"Third party transfers for loading data from external data sources are now generally available GA.\",\"BigQuery ML data preprocessing is now Generally Available (GA). Read about the preprocessing functions and walk through how to use the TRANSFORM clause for feature engineering.\",\"BigQuery Reservations is now in beta in US and EU regions. BigQuery Reservations allows you to purchase BigQuery slots to take advantage of BigQuery flat-rate pricing and allocate slots for workload management.\",\"Support for tables partitioned on an integer column  is now in Beta. For more information, see Creating and using integer range partitioned tables.\",\"For users billed on the on-demand pricing model, BigQuery can now burst beyond the default slot capacity to accelerate queries. There is no extra charge associated with query acceleration.\",\"Support for Cloud Storage Transfers is now generally available GA.\",\"You can now use KMEANS++ to initialize the clusters of a k-means model. KMEANS++ trains a better model than random cluster initialization.\",\"INFORMATION_SCHEMA now has updated permissions checks.  INFORMATION_SCHEMA is currently in beta.\",\"Support for persistent standard SQL UDFs is now Generally Available (GA).\",\"You can now use INFORMATION_SCHEMA views to get routine metadata in BigQuery. INFORMATION_SCHEMA is currently in beta.\",\"BigQuery now supports using service account credentials with scheduled queries. This feature is in Beta.\",\"BigQuery ML data preprocessing is now in beta.\",\"BigQuery ML now supports customer-managed encryption keys (CMEK). You can use your own Cloud KMS keys to encrypt ML models.\",\"BigQuery ML is now available in the South Carolina (us-east1) region.\",\"BigQuery is now available in the South Carolina (us-east1) region.\",\"Support for omitting column names in INSERT and MERGE statements is now Generally Available (GA).\",\"Support for querying Cloud Storage data in ORC and Parquet format is now in beta.\",\"Support for loading and querying externally partitioned data that is stored on Cloud Storage using a default hive partitioning layout is now in beta. The data must be in Avro, Parquet, ORC, CSV, or JSON format.\",\"The BigQuery service is being renamed from:\",\"The RANGE_BUCKET mathematical function has been added. This function scans through a sorted array and returns the 0-based position of a given point's upper bound. This function can be useful if you need to group your data to build partitions, histograms, business-defined rules, and more.\",\"Updated versions of Magnitude Simba JDBC and ODBC drivers have been released.\",\"BigQuery Data Transfer Service now supports Search Ads 360 data transfers. Search Ad 360 transfers are in beta.\",\"The ability to use scripting, stored procedures, and temporary tables is now in Beta.\",\"Importing TensorFlow models is now GA.\",\"BigQuery BI Engine is now available in the Frankfurt (europe-west3) region.\",\"BigQuery Data Transfer Service support for data & schema migration from a Teradata data warehouse to BigQuery has been upgraded. On-demand, one-time transfers are now generally available (GA). Incremental, recurring transfers are in Beta.\",\"Support for k-means clustering models is now GA. For more information, see Creating a k-means clustering model.\",\"BigQuery is now available in the Frankfurt (europe-west3) region.\",\"BigQuery ML is now available in the Frankfurt (europe-west3) region.\",\"BigQuery BI Engine is now available in the Frankfurt (europe-west3) region.\",\"Billing is now enabled for BigQuery BI Engine. You are charged according to the information on the Pricing page.\",\"Support for copying datasets, including across regions, is now in Beta.\",\"When you create an external table that is linked to a Google Sheets file stored in Google Drive, you can now specify an individual sheet or a cell range. You are no longer limited to the first sheet only.\",\"Updated version of Magnitude Simba ODBC driver.\",\"You no longer have to manually re-cluster data in clustered tables. BigQuery now performs automatic re-clustering on all clustered tables.\",\"If you stream data into BigQuery without populating the insertId field, you get the following higher quotas in the US multi-region location. These higher quotas are currently in beta.\",\"You can now query data in BigQuery and Cloud SQL with a federated query. Cloud SQL federated queries are now in beta.\",\"The BigQuery Storage API now supports reading data from BigQuery Storage in ARROW format. The BigQuery Storage API is currently in beta.\",\"Updated version of Magnitude Simba ODBC driver. This version adds support for the BigQuery Storage API. The structure of the Linux ODBC tar package has also been changed to contain both 32-bit and 64-bit driver versions.\",\"The scheduled query feature is now Generally Available.\",\"Importing TensorFlow models is now Beta.\",\"Support for persistent user-defined functions (UDFs) is now in Beta.\",\"BigQuery Data Transfer Service now supports Google Merchant Center data transfers. Merchant Center transfers are in the beta stage.\",\"Support for Amazon Redshift data warehouse migrations to BigQuery is now in Beta.\",\"Updated version of Magnitude Simba JDBC driver.\",\"BigQuery is moving to the Google Cloud Platform Console. The classic web UI remains available through June 2020. For information on migrating to the GCP Console, see Moving to the Google Cloud Platform Console.\",\"Support for omitting column names in INSERT and MERGE statements is now in Beta.\",\"BigQuery ML is now Generally Available (GA).\",\"The maximum response size for query results has increased from 128 MB to 10 GB.\",\"Support for clustering a table by using a GEOGRAPHY column is now Generally Available (GA).\",\"BigQuery ML now supports the DROP MODEL DDL statement for deleting models.\",\"The concurrent rate limit for on-demand, interactive queries has increased from 50 to 100 concurrent queries.\",\"BigQuery ML IAM permissions are now available. These permissions take effect on June 6, 2019. Customers with custom roles should migrate to these permissions no later than June 6. Pre-defined IAM roles and basic roles are not impacted by this change.\",\"BigQuery BI Engine is now available in several additional regions:\",\"The following quotas have changed:\",\"BigQuery is now available in the Osaka (asia-northeast2) region. For upcoming regional launches, see the Google Cloud Platform blog.\",\"BigQuery BI Engine is now in beta.\",\"BigQuery standard SQL now supports AEAD encryption functions.\",\"Third party transfers for loading data from external data sources are now in beta.\",\"BigQuery ML now supports the k-means model type for clustering and customer segmentation.\",\"The BigQuery web UI in the GCP Console is now generally available (GA).\",\"The BigQuery Data Transfer Service now supports transferring data into BigQuery from Amazon S3. Amazon S3 transfers are now in beta.\",\"Support for clustered tables is now generally available (GA).\",\"BigQuery now allows you to purchase as few as 500 slots when you enroll in a flat-rate pricing plan. You are also now able to choose either a monthly or a yearly flat-rate pricing plan. The new flat-rate pricing plans are currently in alpha.\",\"The BigQuery Data Transfer Service is now available in beta in the GCP Console.\",\"During the beta period, Table permissions were automatically applied to models for custom IAM roles. BigQuery ML will begin enforcing several new IAM permissions on June 6, 2019. Customers who used custom IAM roles during the beta period must reconfigure these roles to use the new BigQuery ML permissions. This change will enable you to manage Models permissions separately from BigQuery ML Table permissions. You can begin redefining your custom roles by the end of April, 2019 when the permissions are released. Pre-defined IAM roles and basic roles are not impacted by this change.\",\"BigQuery Geographic Information Systems is now generally available (GA).\",\"The BigQuery Data Transfer Service for Google Ads has been updated to support v201809 of Google Ads reports.\",\"Combined with a special migration agent, the BigQuery Data Transfer Service now provides a database migration service from an on-premises data warehouse system to BigQuery. Support for Teradata migrations is now in beta.\",\"The limit on the number of CREATE MODEL queries has increased from 100 to 1,000.\",\"BigQuery ML now supports ML.ROC_CURVE and ML.CONFUSION_MATRIX without input data.\",\"Updated version of Simba ODBC and JDBC driver. The Simba JDBC driver now includes support for the BigQuery Storage API.\",\"BigQuery is now available in the Z\\u00fcrich (europe-west6) region. For upcoming regional launches, see the Google Cloud Platform blog.\",\"When you create a scheduled query, the minimum time interval for custom schedules has changed from three hours to 15 minutes.\",\"The BigQuery web UI in the GCP Console now supports assigning access controls to BigQuery datasets.\",\"Support for DML MERGE statements is now generally available (GA).\",\"You can now save query results to Google Drive by using the BigQuery web UI in the GCP Console. Saving query results to Google Drive is currently in beta.\",\"The BigQuery Storage API is now in beta.\",\"BigQuery is now available in the S\\u00e3o Paulo (southamerica-east1) region. For upcoming regional launches, see the Google Cloud Platform blog.\",\"The following load job quota has changed:\",\"The following DML quotas have changed:\",\"The Data Definition Language now supports ALTER TABLE statements to set options on tables and views. ALTER TABLE statements are currently in beta.\",\"You can now use INFORMATION_SCHEMA views to retrieve resource metadata in BigQuery. INFORMATION_SCHEMA is currently in beta.\",\"The AudienceExplorer table has been deprecated by Google Ad Manager, and has been removed from Google Ad Manager report transformations.\",\"The daily export quota has been changed to measure the actual export file size in bytes, when counted toward your daily export quota. Usage is no longer measured by rounding up to the nearest GB.\",\"You can now try BigQuery without providing a credit card or attaching a billing account to your project by using the BigQuery sandbox. The sandbox is now in beta and is available to all GCP customers.\",\"BigQuery ML now supports automatic, batch gradient descent, and normal equation optimization strategies for linear regression models.\",\"BigQuery is now available in the Los Angeles (us-west2) and Hong Kong (asia-east2) regions. For upcoming regional launches, see the Google Cloud Platform blog.\",\"BigQuery audit logging now writes enhanced messages using the BigQueryAuditMetadata format.\",\"BigQuery is now available in the Mumbai (asia-south1), and Montr\\u00e9al (northamerica-northeast1) regions. For upcoming regional launches, see the Google Cloud Platform blog.\",\"The BigQuery ML ML.WEIGHTS function now supports standardization.\",\"The BigQuery ML ML.PREDICT function now supports thresholds for binary logistic regression models.\",\"Raised the maximum length of standard SQL queries to 1 MB.\",\"BigQuery is now available in the Taiwan (asia-east1), Finland (europe-north1), and Northern Virginia (us-east4) regions. For upcoming regional launches, see the Google Cloud Platform blog.\",\"BigQuery now supports converting Avro logical types when you load Avro data.\",\"You can now set or update a default partition expiration time on a dataset.\",\"Updated versions of the Simba ODBC and JDBC drivers.\",\"Updated version of the Simba ODBC drivers.\",\"BigQuery is now available in the Singapore (asia-southeast1) region. For upcoming regional launches, see the Google Cloud Platform blog.\",\"BigQuery ML pricing is now available.\",\"BigQuery now supports the bigquery.metadataViewer predefined IAM role.\",\"BigQuery is now available in the Sydney (australia-southeast1) region. For upcoming regional launches, see the Google Cloud Platform blog.\",\"The BigQuery ML CREATE MODEL statement has increased support for unique values in labels from 10 to 50. Multiclass logistic regression models now support up to 50 unique values for labels.\",\"You can now try BigQuery without providing a credit card or attaching a billing account to your project by using the BigQuery sandbox for Firebase. The sandbox is now in beta.\",\"When you create a model using the random data split method, the split is now deterministic. Subsequent training runs will produce the same split so long as the underlying input data hasn't changed.\",\"Support for using DML statements against partitioned tables is also generally available (GA).\",\"Support for tables partitioned on a DATE or TIMESTAMP column is now generally available (GA).\",\"BigQuery is now available in the London (europe-west2) region. For upcoming regional launches, see the Google Cloud Platform blog.\",\"The location is no longer required when executing jobs that reference resources outside the US and EU regions.\",\"Support for Cloud Storage Transfers is now in Beta.\",\"BigQuery standard SQL now supports the GENERATE_UUID function.\",\"Updated versions of Simba ODBC and JDBC drivers to support regional resources.\",\"BigQuery ML is now available in the Tokyo (asia-northeast1) region.\",\"BigQuery ML now supports multiclass logistic regression models and the ML.CONFUSION_MATRIX evaluation function.\",\"Scheduling queries is now in Beta.\",\"Loading data in ORC format is now GA (Generally Available).\",\"BigQuery Geographic Information Systems is now Beta.\",\"Updated version of the Simba JDBC driver.\",\"The NUMERIC data type is now generally available.\",\"BigQuery now supports loading Cloud Firestore export data and querying Cloud Firestore data stored in Cloud Storage.\",\"The BigQuery Data Transfer Service no longer requires an enrollment step for each data source when you enable the service.\",\"BigQuery support for clustered tables is now Beta.\",\"Data Definition Language (DDL) support in BigQuery is now Generally Available (GA).\",\"BigQuery ML is now Beta.\",\"BigQuery has achieved approximately 5x improvement in TPC-DS 10T power run geomean over the past 18 months.\",\"The BigQuery web UI in the GCP Console is now Beta.\",\"BigQuery support for clustered tables is now Alpha.\",\"Support for Google Play reports is now in Beta.\",\"BigQuery Data Transfer Service for Google Ads is now GA (generally available).\",\"Google Ads transfers now support API version v201806.\",\"BigQuery standard SQL now supports templated SQL UDFs.\",\"BigQuery standard SQL now supports the function GENERATE_TIMESTAMP_ARRAY.\",\"BigQuery standard SQL now supports the functions FROM_BASE32 and TO_BASE32.\",\"BigQuery Data Transfer Service support for YouTube Channel reports and YouTube Content Owner reports is now GA (generally available).\",\"Loading data in ORC format is now Beta.\",\"Loading data in Parquet format is now GA (generally available).\",\"Updated version of the Simba ODBC drivers.\",\"The following quotas have changed for load jobs:\",\"Support for the NUMERIC data type is now in Beta.\",\"The following quotas have changed:\",\"Updated version of the Simba JDBC driver.\",\"When you create a Google Ads transfer, the maximum value for the refresh window is now 7 days. Existing transfers are unaffected by this change.\",\"BigQuery is now available in the Tokyo (asia-northeast1) region.\",\"BigQuery now includes bigquery.jobs.listAllpermissions. bigquery.jobs.list still allows users to list all jobs in a project, but details and metadata are redacted for jobs submitted by other users.\",\"By default, the number of export jobs per project per day has increased from 1,000 to 50,000.\",\"Support for DML MERGE statements is now in Beta.\",\"Google Ad Manager transfers now support API version v201802.\",\"BigQuery standard SQL now supports: the ERROR function to return errors and the SAFE prefix to suppress errors.\",\"BigQuery now allows you to monitor slot usage by job type in Stackdriver.\",\"BigQuery data definition language now supports creating a table from the result of a query.\",\"BigQuery support for using DML statements with partitioned tables is now in Beta.\",\"Updated version of Simba JDBC driver.\",\"Support for loading Parquet files is now in Beta.\",\"Google Ads transfers now support manager accounts (MCCs).\",\"Google Ads transfers now support API version 201710.\",\"BigQuery Data Transfer Service run notifications are now in Alpha.\",\"BigQuery support for tables partitioned using a TIMESTAMP or DATE column is now in Beta.\",\"Several API methods will begin including a location field in their responses: jobs.insert, jobs.get, jobs.cancel, jobs.query, jobs.getQueryResults, datasets.list, and jobs.list. The location field is currently not required in requests.\",\"BigQuery data definition language support is now in Beta.\",\"Google Ads transfers now support the following reports:\",\"ISOWEEK and ISOYEAR are now supported by the following functions: DATE_TRUNC, DATETIME_TRUNC, TIMESTAMP_TRUNC, DATE_DIFF, and DATETIME_DIFF.\",\"You can now check the Configure Jobs option to allow the BigQuery Data Transfer Service to manage YouTube Channel and Content Owner reporting jobs for you.\",\"You can now exclude removed or deleted items when setting up a Google Ads transfer.\",\"Backfill requests for Google Ads do not overwrite Match Tables.\",\"Updated versions of Simba ODBC and JDBC releases.\",\"The BigQuery web UI supports additional dimensions for filtering your query history.\",\"WEEK(<WEEKDAY>) is now a valid date part for the EXTRACT function.\",\"FARM_FINGERPRINT is now a supported function in legacy SQL.\",\"There is now a quota of 300 concurrent API requests per user.\",\"IAM custom roles are now available for BigQuery.\",\"The _PARTITIONTIME pseudo column is now supported when querying data using a wildcard table over partitioned tables.\",\"INTERSECT DISTINCT and EXCEPT DISTINCT are now supported set operators in standard SQL.\",\"BigQuery Data Transfer Service is now generally available.\",\"High compute queries are being phased out so you are no longer required to opt-in. All high compute queries under tier 100 are billed as tier 1. Running a high compute query does not require setting a threshold flag.\",\"Updated version of the BigQuery client library for Python v0.28.\",\"The IGNORE NULLS and RESPECT NULLS modifiers are now supported in the FIRST_VALUE, LAST_VALUE, and NTH_VALUE analytic functions.\",\"The FOR SYSTEM_TIME AS OF expression is now available in the FROM clause.\",\"Updated versions of Simba ODBC and JDBC releases.\",\"GROUP BY ROLLUP is now supported in standard SQL.\",\"The following string functions are now supported in standard SQL:\",\"Added support for creating ingestion-time partitioned tables by specifying partitioning options when you write query results or load data into a new destination table.\",\"The following analytic functions are now supported in standard SQL:\",\"Added best practices documentation for BigQuery:\",\"Updated versions of Simba ODBC and JDBC releases.\",\"The following standard SQL statistical aggregate functions now support the OVER clause \\u2014 COVAR_SAMP, COVAR_POP, and CORR:\",\"Announced support for WEEK, ISOWEEK, and ISOYEAR with the standard SQL EXTRACT function:\",\"Announced availability of snappy codec for Avro compressed data blocks:\",\"Announced availability of standard SQL TO_HEX and FROM_HEX functions:\",\"Announced support for using DML statements to modify tables with required fields:\",\"Announced availability of new public datasets:\",\"Announced availability of new public dataset:\",\"Announced availability of new public dataset:\",\"The following standard SQL statistical aggregate functions now support the OVER clause \\u2014 STDDEV, STDDEV_POP, STDDEV_SAMP, VAR_POP, VAR_SAMP, VARIANCE:\",\"Standard SQL now supports the TO_JSON_STRING function.\",\"Added troubleshooting documentation for the BigQuery Data Transfer Service:\",\"Added troubleshooting documentation for the BigQuery Data Transfer Service:\",\"Announced availability of new public dataset:\",\"Announced free tier pricing for storage.\",\"Announced availability of new public datasets:\",\"Announced availability of new IAM role:\",\"Announced availability of new public dataset:\",\"Announced availability of new public datasets:\",\"Announced availability of new public dataset:\",\"Updated versions of JDBC releases.\",\"Announced availability of new public dataset:\",\"Updated limits for maximum rows per second when streaming data into BigQuery.\",\"Standard SQL now supports REVERSE and ARRAY_REVERSE functions for reversing STRING, BYTES, and ARRAY types.\",\"Standard SQL now supports several functions that use HyperLogLog++ to estimate the number of unique values in a large dataset.\",\"Standard SQL now supports window, or analytic, mode for ARRAY_AGG and STRING_AGG using the OVER clause.\",\"Updated limits for Avro headers and maximum file size for load jobs.\",\"Updated versions of JDBC and ODBC releases.\",\"Announced beta availability of BigQuery Data Transfer Service.\",\"Announced general availability of IGNORE NULLS and RESPECT NULLS modifiers for ARRAY_AGG and APPROX_QUANTILES in standard SQL.\",\"Announced availability of new public datasets:\",\"Announced daily limits for copying a table in BigQuery.\",\"Announced general availability of Data Manipulation Language for nonpartitioned tables in standard SQL.\",\"Announced beta availability of Querying Google Cloud Bigtable External Data Sources.\",\"Increased daily limits for update and delete statements.\",\"Standard SQL now supports:\",\"Announced support for copying non-partitioned tables to partitioned tables. For more information, see Copying to partitioned tables.\",\"Announced availability of a new public dataset: New York City Tree Census data.\",\"Announced availability of a new public dataset: US Bureau of Labor Statistics data.\",\"URL functions in standard SQL.\",\"Announced availability of a new public dataset: NYPD Motor Vehicle Collisions data.\",\"Announced availability of a new public dataset: NYC 311 Service Requests data.\",\"Announced availability of a new public dataset: New York City Citi Bike Trips data.\",\"Standard SQL now supports parameterized queries, which help prevent SQL injection when queries are constructed using user input.\",\"If you use OMIT...IF to exclude a portion of a record in a repeating field, and the query also selects other independently repeating fields, BigQuery now returns an error. To avoid this error, migrate your query to standard SQL.\",\"Hash functions in standard SQL.\",\"Standard SQL now supports the following code point functions: TO_CODE_POINTS, CODE_POINTS_TO_BYTES, CODE_POINTS_TO_STRING.\",\"Announced availability of custom null markers for CSV load jobs.\",\"Standard SQL now supports ORDER BY and LIMIT clauses within ARRAY_AGG, ARRAY_CONCAT_AGG, and STRING_AGG.\",\"Announced availability of JSON functions in standard SQL.\",\"Announced availability of a new public dataset: IRS Form 990 Data.\",\"Announced publication of a new tutorial:\",\"Announced availability of a new public dataset: Medicare Data.\",\"Announced availability of a new public dataset: Open Images Data.\",\"Announced JDBC drivers.\",\"You can set a SQL variant, either legacy SQL or standard SQL, by setting a query prefix.\",\"Announced availability of a new public dataset: Major League Baseball Data.\",\"Announced availability of standard SQL safe casting functions, which return a null value in cases where normal casting generates an error.\",\"The BigQuery Client Libraries page now links exclusively to one set of libraries: the Google Cloud Client Libraries. Work is underway to update all sample code throughout the BigQuery documentation to use the Google Cloud Client Libraries.\",\"Bracket notation is now supported for the legacy SQL JSON functions.\",\"Additional documentation is available for access control using Identity and Access Management (IAM):\",\"You can now save and share queries.\",\"Flat-Rate Pricing gives you unlimited querying for a fixed monthly price.\",\"Announced ODBC drivers.\",\"Announced BigQuery Stackdriver Monitoring functionality, which enables you to monitor your BigQuery resources, including creating charts and alerts based on BigQuery metrics.\",\"Announced Data Manipulation Language (DML) functionality for standard SQL, which enables you to insert, update, and delete rows and columns in your BigQuery datasets.\",\"Announced general availability of standard SQL, which is based on the SQL 2011 standard, with extensions for querying nested and repeated data.\",\"The updated beta IAM predefined roles for BigQuery are now accessible to all.\",\"When loading Avro files, BigQuery no longer creates an unnamed root-level column named \\\"root.\\\" To ease the transition to this new schema, projects with the following contents are exempted from this change through a project override:\",\"Announced support for labeling datasets using the BigQuery API or command-line tool.\",\"Announced support for time-partitioned tables.\",\"Announced Beta availability of standard SQL, which is based on the SQL 2011 standard, with extensions for querying nested and repeated data.\",\"Announced a Beta preview of Product Identity and Access Management (IAM) Roles.\",\"Query reference updates:\",\"Announced support for Google Drive:\",\"Announced availability of BigQuery Public Datasets.\",\"Announced Long Term Storage pricing.\",\"Added support for Avro source format for load operations and as an federated data source in the BigQuery API or command-line tool.\",\"Added support for CSV and JSON schema auto-detection for federated data sources in the BigQuery API or command-line tool.\",\"Added support for the BYTES data type.\",\"Updated the interface for creating tables in the BigQuery web UI.\",\"Added Query explain, which shows, stage by stage, how BigQuery executes your queries.\",\"Added Custom quotas, which allow you to set project-wide billing alerts that help prevent runaway costs.\",\"Added improvements to the Streaming API:\",\"Added support for analyzing Google Cloud Audit logs that enable you to track usage and access.\",\"Added streaming buffer statistics for tables that are being actively modified by streaming inserts. These statistics offer better information about table size and availability for copy/extract, and they can also help with debugging.\",\"Added support for user-defined functions (UDFs).\",\"Added the ability to query CSV and JSON data directly from Google Cloud Storage. For more information, see federated data sources.\",\"Added ability to cancel a job\",\"Pricing updates:\",\"Quota updates:\\n* Increased the concurrent rate limit to 50 queries.\\n* Increased the daily query limit to 100,000 queries.\",\"BigQuery web UI improvements:\",\"Added ability to load data from Google Cloud Datastore.\",\"Increased the API requests per second, per user quota from 10 to 100 requests per second.\",\"Query reference updates:\",\"Added ability to undelete a table using table decorators.\",\"Added parallel export capability.\",\"Changed the pricing model, lowering rates and adding reserved capacity pricing.\",\"Updated batch query functionality. Batch queries no longer have a 30 minute execution delay. Instead, batch jobs now begin as soon as idle resources are available. If the job hasn't started within 3 hours, the job priority changes to interactive.\",\"Added a description property for datasets, tables and fields.\",\"Updated the concurrent rate limit and export request quota in the quota policy.\",\"Improved JOIN support by adding CROSS JOIN and multiple JOIN functionality. For more information, see joins.\",\"Increased quota limits for streaming data into BigQuery.\",\"Added table wildcard functions, for a cost-effective way to query data from a specific set of tables.\",\"Added JSON functions.\",\"Added views. A view is a virtual table defined by a SQL query.\",\"Added support for streaming inserts.\",\"Added table decorators for time-based table snapshots.\",\"Added new aggregate functions.\",\"Added window functions.\",\"Added support for package-based pricing.\",\"Added query caching.\",\"Updated quota policies.\",\"Added support for returning large query results.\",\"Added GROUP EACH BY functionality for aggregations of more distributed values.\",\"Added JOIN EACH functionality for joining tables of any size.\",\"Added ability to add columns to table schema after the data is already loaded into BigQuery. To add columns to a table schema, pass the new schema to the schema parameter of Tables.update().\",\"Added TIMESTAMP data type functionality.\",\"API: New support for importing JSON files and nested and repeated fields\",\"API: New quota limits\",\"API: New batch queries feature allows for queries to be executed between 30 minutes to 3 hours later, but are charged at a lower cost than interactive queries which execute immediately\",\"New tool release: BigQuery Connector for Excel now allows you to make queries to Google BigQuery from Microsft Excel!\",\"API: CSV chunking - when importing, you can now specify the allowQuotedNewlines flag to be FALSE in the bq command-line tool, or in the API, and the import will be chunked, or processed in parallel. If you have quoted new lines in your data, be sure to set this flag to be TRUE.\",\"API: Deletion of large tables has been fixed\",\"API: Improved validation of project IDs\",\"BigQuery Browser Tool: Add a drag handle to the separator below the query editor\",\"BigQuery Browser Tool: New favicon\",\"API: Project owners can now call bigquery.jobs.get for jobs created by other users\",\"BigQuery Browser Tool: Added syntax highlighting\",\"BigQuery Browser Tool: Fixed some keyboard shortcuts in the query editor\",\"API: Introduced new quota enforcement schema. User can now have one (1) large query and one (1) pipeline job (import, export, streaming, etc.) concurrently.\",\"API: Added support for leading underscores in field name\",\"API: Improved error handling\",\"API: Added token based pagination support for list operations. Clients can use token based pagination to page through a single table snapshot. Subsequent changes to the table are not reflected when paging through list results.\",\"API: Improved list operations for tables and datasets\",\"API: Table expiration time is now exposed\",\"API: Better errors for field/rows being too long\",\"API: Custom delimiters added\",\"API\",\"BigQuery Browser Tool: New welcome page and more helpful messages when there aren't any queries or jobs to display\",\"BigQuery Browser Tool\",\"API: Remove bigquery.jobs.delete\",\"BigQuery Browser Tool\",\"API\",\"BigQuery Browser Tool\",\"BigQuery Browser Tool\",\"API\",\"BigQuery Browser Tool\",\"API\",\"BigQuery Browser Tool\",\"API\",\"BigQuery V2 Release\"]},\"selected\":{\"id\":\"1051\"},\"selection_policy\":{\"id\":\"1052\"}},\"id\":\"1002\",\"type\":\"ColumnDataSource\"}],\"root_ids\":[\"1164\"]},\"title\":\"Bokeh Application\",\"version\":\"2.3.1\"}};\n",
              "  var render_items = [{\"docid\":\"92b022c1-7111-4324-9581-83386e781e1c\",\"root_ids\":[\"1164\"],\"roots\":{\"1164\":\"057f50a3-56f5-4504-82f1-934d9a3e57b2\"}}];\n",
              "  root.Bokeh.embed.embed_items_notebook(docs_json, render_items);\n",
              "\n",
              "  }\n",
              "  if (root.Bokeh !== undefined) {\n",
              "    embed_document(root);\n",
              "  } else {\n",
              "    var attempts = 0;\n",
              "    var timer = setInterval(function(root) {\n",
              "      if (root.Bokeh !== undefined) {\n",
              "        clearInterval(timer);\n",
              "        embed_document(root);\n",
              "      } else {\n",
              "        attempts++;\n",
              "        if (attempts > 100) {\n",
              "          clearInterval(timer);\n",
              "          console.log(\"Bokeh: ERROR: Unable to run BokehJS code because BokehJS library is missing\");\n",
              "        }\n",
              "      }\n",
              "    }, 10, root)\n",
              "  }\n",
              "})(window);"
            ],
            "application/vnd.bokehjs_exec.v0+json": ""
          },
          "metadata": {
            "tags": [],
            "application/vnd.bokehjs_exec.v0+json": {
              "id": "1164"
            }
          }
        }
      ]
    },
    {
      "cell_type": "code",
      "metadata": {
        "id": "_9YavfFQcCu0"
      },
      "source": [
        "output_file(\"bqplot.html\")"
      ],
      "execution_count": null,
      "outputs": []
    },
    {
      "cell_type": "code",
      "metadata": {
        "colab": {
          "base_uri": "https://localhost:8080/",
          "height": 35
        },
        "id": "dEkCsBchd9Il",
        "outputId": "c7597e21-fa0e-4570-9fbe-c9238090886a"
      },
      "source": [
        "save(full)"
      ],
      "execution_count": null,
      "outputs": [
        {
          "output_type": "execute_result",
          "data": {
            "application/vnd.google.colaboratory.intrinsic+json": {
              "type": "string"
            },
            "text/plain": [
              "'/content/bqplot.html'"
            ]
          },
          "metadata": {
            "tags": []
          },
          "execution_count": 8
        }
      ]
    },
    {
      "cell_type": "markdown",
      "metadata": {
        "id": "0weGgyP2gXh7"
      },
      "source": [
        "Download this file.  Then, copy/paste the html to where you want to embed it."
      ]
    },
    {
      "cell_type": "markdown",
      "metadata": {
        "id": "Kb1DbR64ON-x"
      },
      "source": [
        "---\n",
        "I used these instructions to create a cloud function to run the code.  A cloud Scheduler task invokes a Pub/Sub trigger for the Cloud Function every evening.\n",
        "\n",
        "- https://cloud.google.com/scheduler/docs/tut-pub-sub\n"
      ]
    },
    {
      "cell_type": "code",
      "metadata": {
        "id": "CRYE2M6cOmf2"
      },
      "source": [
        ""
      ],
      "execution_count": null,
      "outputs": []
    }
  ]
}